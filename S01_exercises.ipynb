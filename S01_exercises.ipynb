{
 "cells": [
  {
   "cell_type": "markdown",
   "metadata": {},
   "source": [
    "# Python exercises related with NLP\n",
    "\n",
    "This is a level test exercise. The purpose is to get your level in python programming oriented to NLP. \n",
    "\n",
    "Solve (and test) the next exercises in the block below each topic. **Use your python expertise and official python manual ONLY**: [https://docs.python.org/3/](https://docs.python.org/3/). The teachers are on the classroom to help.\n"
   ]
  },
  {
   "cell_type": "markdown",
   "metadata": {},
   "source": [
    "## Topic 1: Working with Strings\n",
    "\n",
    "1. Write a program that takes a string input from the user and prints the length of the string.\n",
    "2. Create a program that converts a given string to uppercase.\n",
    "3. Write a function that checks if a string contains only alphabets.\n",
    "4. Reverse a string without using slicing (e.g., string[::-1]).\n",
    "5. Count how many times a specific character appears in a string.\n",
    "6. Write a function that takes two strings and checks if they are anagrams.\n",
    "7. Implement a function that removes all vowels from a given string.\n",
    "8. Write a function that checks if a string is a palindrome (case-insensitive).\n",
    "9. Given a string, return the first non-repeating character.\n",
    "10. Create a function that capitalizes the first letter of each word in a string.\n",
    "11. Write a program to compress a string (e.g., \"aaabb\" -> \"a3b2\").\n",
    "12. Implement a function to find the longest substring without repeating characters.\n",
    "13. Write a program to check if a string can be rearranged into a palindrome.\n",
    "14. Implement a function that removes all duplicates from a string while preserving the order of characters.\n",
    "15. Write a function to find the longest common prefix among a list of strings.\n",
    "16. Implement a custom `split` function without using Python's built-in methods.\n",
    "17. Write a function to decode a given run-length encoded string (e.g., \"a3b2\" -> \"aaabb\").\n",
    "18. Implement a function to check if one string is a rotation of another.\n",
    "19. Create a function to find all permutations of a given string.\n",
    "20. Write a function to implement a basic version of the `str.index` method."
   ]
  },
  {
   "cell_type": "code",
   "execution_count": 16,
   "metadata": {},
   "outputs": [
    {
     "name": "stdout",
     "output_type": "stream",
     "text": [
      "0\n"
     ]
    }
   ],
   "source": [
    "#1\n",
    "a = str(input('Santa tell me: '))\n",
    "print(len(a))"
   ]
  },
  {
   "cell_type": "code",
   "execution_count": 17,
   "metadata": {},
   "outputs": [
    {
     "name": "stdout",
     "output_type": "stream",
     "text": [
      "\n"
     ]
    }
   ],
   "source": [
    "#2\n",
    "uppercase = a.upper()\n",
    "print(uppercase)"
   ]
  },
  {
   "cell_type": "code",
   "execution_count": 18,
   "metadata": {},
   "outputs": [
    {
     "name": "stdout",
     "output_type": "stream",
     "text": [
      "not all alpha\n"
     ]
    }
   ],
   "source": [
    "#3\n",
    "if a.isalpha():\n",
    "    print(\"all alpha\")\n",
    "else:\n",
    "    print(\"not all alpha\")"
   ]
  },
  {
   "cell_type": "code",
   "execution_count": 19,
   "metadata": {},
   "outputs": [
    {
     "name": "stdout",
     "output_type": "stream",
     "text": [
      "\n"
     ]
    }
   ],
   "source": [
    "#4\n",
    "rstr= a[::-1]\n",
    "print(rstr)"
   ]
  },
  {
   "cell_type": "code",
   "execution_count": 20,
   "metadata": {},
   "outputs": [
    {
     "data": {
      "text/plain": [
       "1"
      ]
     },
     "execution_count": 20,
     "metadata": {},
     "output_type": "execute_result"
    }
   ],
   "source": [
    "#5\n",
    "b= str(input(\"what letter?: \"))\n",
    "a.count(b)"
   ]
  },
  {
   "cell_type": "code",
   "execution_count": 21,
   "metadata": {},
   "outputs": [
    {
     "name": "stdout",
     "output_type": "stream",
     "text": [
      "true\n"
     ]
    }
   ],
   "source": [
    "#6\n",
    "w1= str(input(\"first word: \"))\n",
    "w2= str(input(\"second word: \"))\n",
    "\n",
    "sw1= sorted(w1)\n",
    "sw2= sorted(w2)\n",
    "\n",
    "if sw1 == sw2:\n",
    "    print(\"true\")\n",
    "else:\n",
    "    print(\"false\")\n",
    "    "
   ]
  },
  {
   "cell_type": "code",
   "execution_count": 22,
   "metadata": {},
   "outputs": [
    {
     "name": "stdout",
     "output_type": "stream",
     "text": [
      "\n"
     ]
    }
   ],
   "source": [
    "#7\n",
    "c = str(input(\"word: \"))\n",
    "\n",
    "def novowel(c):\n",
    "\n",
    "    for i in \"aeiouAEIOU\":\n",
    "     c = c.replace(i, \"\")\n",
    "    \n",
    "    return c\n",
    "\n",
    "print(novowel(c))\n"
   ]
  },
  {
   "cell_type": "code",
   "execution_count": 23,
   "metadata": {},
   "outputs": [
    {
     "name": "stdout",
     "output_type": "stream",
     "text": [
      "true\n"
     ]
    }
   ],
   "source": [
    "#8\n",
    "d = str(input(\"word: \"))\n",
    "\n",
    "def palindrome(d):\n",
    "    return d == d[::-1]\n",
    "\n",
    "if palindrome(d):\n",
    "    print(\"true\")\n",
    "else:\n",
    "    print(\"false\")"
   ]
  },
  {
   "cell_type": "code",
   "execution_count": 24,
   "metadata": {},
   "outputs": [
    {
     "name": "stdout",
     "output_type": "stream",
     "text": [
      "None\n"
     ]
    }
   ],
   "source": [
    "#9\n",
    "e = str(input(\"word: \"))\n",
    "\n",
    "def primeronr(ss):\n",
    "    for char in ss:\n",
    "        \n",
    "        if ss.count(char) == 1:\n",
    "            return char\n",
    "\n",
    "    return None\n",
    "\n",
    "result = primeronr(e)\n",
    "print(result)\n"
   ]
  },
  {
   "cell_type": "code",
   "execution_count": 25,
   "metadata": {},
   "outputs": [
    {
     "name": "stdout",
     "output_type": "stream",
     "text": [
      "\n"
     ]
    }
   ],
   "source": [
    "#10\n",
    "f = str(input(\"word: \"))\n",
    "\n",
    "def capfist(sss):\n",
    "    return ' '.join(word.capitalize() for word in sss.split())\n",
    "\n",
    "f10 = capfist(f)\n",
    "print(f10)"
   ]
  },
  {
   "cell_type": "code",
   "execution_count": 26,
   "metadata": {},
   "outputs": [
    {
     "name": "stdout",
     "output_type": "stream",
     "text": [
      "\n"
     ]
    }
   ],
   "source": [
    "#11\n",
    "g = str(input(\"word: \"))\n",
    "\n",
    "def compress_string(s):\n",
    "    if not s:\n",
    "        return \"\"\n",
    "    \n",
    "    compressed = []\n",
    "    count = 1\n",
    "    for i in range(1, len(s)):\n",
    "        if s[i] == s[i - 1]:\n",
    "            count += 1\n",
    "        else:\n",
    "            compressed.append(s[i - 1] + (str(count) if count > 1 else \"\"))\n",
    "            count = 1\n",
    "    compressed.append(s[-1] + (str(count) if count > 1 else \"\"))\n",
    "    \n",
    "    return ''.join(compressed)\n",
    "\n",
    "print(compress_string(g))\n"
   ]
  },
  {
   "cell_type": "code",
   "execution_count": 27,
   "metadata": {},
   "outputs": [
    {
     "name": "stdout",
     "output_type": "stream",
     "text": [
      "0\n"
     ]
    }
   ],
   "source": [
    "#12\n",
    "h = input(\"word: \")\n",
    "\n",
    "def longest_unique_substring(s):\n",
    "    char_index = {}\n",
    "    start = max_length = 0\n",
    "    for i, char in enumerate(s):\n",
    "        if char in char_index and char_index[char] >= start:\n",
    "            start = char_index[char] + 1\n",
    "        char_index[char] = i\n",
    "        max_length = max(max_length, i - start + 1)\n",
    "    return max_length\n",
    "\n",
    "print(longest_unique_substring(h))\n"
   ]
  },
  {
   "cell_type": "code",
   "execution_count": 28,
   "metadata": {},
   "outputs": [
    {
     "name": "stdout",
     "output_type": "stream",
     "text": [
      "The string can be rearranged into a palindrome.\n"
     ]
    }
   ],
   "source": [
    "#13\n",
    "from collections import Counter\n",
    "\n",
    "i = input(\"word: \")\n",
    "\n",
    "def can_form_palindrome(s):\n",
    "    counts = Counter(s)\n",
    "    odd_count = sum(1 for count in counts.values() if count % 2 != 0)\n",
    "    return odd_count <= 1\n",
    "\n",
    "if can_form_palindrome(i):\n",
    "        print(\"The string can be rearranged into a palindrome.\")\n",
    "else:\n",
    "        print(\"The string cannot be rearranged into a palindrome.\")\n"
   ]
  },
  {
   "cell_type": "code",
   "execution_count": 29,
   "metadata": {},
   "outputs": [
    {
     "name": "stdout",
     "output_type": "stream",
     "text": [
      "\n"
     ]
    }
   ],
   "source": [
    "#14\n",
    "j = input(\"word: \")\n",
    "\n",
    "def remove_duplicates(s):\n",
    "    seen = set()\n",
    "    result = []\n",
    "    for c in s:\n",
    "        if c not in seen:\n",
    "            seen.add(c)\n",
    "            result.append(c)\n",
    "    return ''.join(result)\n",
    "\n",
    "\n",
    "print(remove_duplicates(j))"
   ]
  },
  {
   "cell_type": "code",
   "execution_count": 30,
   "metadata": {},
   "outputs": [
    {
     "name": "stdout",
     "output_type": "stream",
     "text": [
      "\n"
     ]
    }
   ],
   "source": [
    "#15\n",
    "k = input(\"word: \").split()\n",
    "\n",
    "def longest_common_prefix(strings):\n",
    "    if not strings:\n",
    "        return \"\"\n",
    "    prefix = strings[0]\n",
    "    for string in strings[1:]:\n",
    "        while not string.startswith(prefix):\n",
    "            prefix = prefix[:-1]\n",
    "            if not prefix:\n",
    "                return \"\"\n",
    "    return prefix\n",
    "\n",
    "\n",
    "print(longest_common_prefix(k))\n"
   ]
  },
  {
   "cell_type": "code",
   "execution_count": 31,
   "metadata": {},
   "outputs": [
    {
     "name": "stdout",
     "output_type": "stream",
     "text": [
      "['']\n"
     ]
    }
   ],
   "source": [
    "#16\n",
    "l = input(\"word: \")\n",
    "delimiter = input(\"Enter a delimiter: \")\n",
    "\n",
    "def custom_split(s, delimiter):\n",
    "    result, buffer = [], \"\"\n",
    "    for char in s:\n",
    "        if char == delimiter:\n",
    "            result.append(buffer)\n",
    "            buffer = \"\"\n",
    "        else:\n",
    "            buffer += char\n",
    "    result.append(buffer)\n",
    "    return result\n",
    "\n",
    "\n",
    "print(custom_split(l, delimiter))\n"
   ]
  },
  {
   "cell_type": "code",
   "execution_count": 32,
   "metadata": {},
   "outputs": [
    {
     "name": "stdout",
     "output_type": "stream",
     "text": [
      "\n"
     ]
    }
   ],
   "source": [
    "#17\n",
    "m = input(\"word: \")\n",
    "\n",
    "def decode_rle(s):\n",
    "    decoded, i = \"\", 0\n",
    "    while i < len(s):\n",
    "        char = s[i]\n",
    "        i += 1\n",
    "        count = \"\"\n",
    "        while i < len(s) and s[i].isdigit():\n",
    "            count += s[i]\n",
    "            i += 1\n",
    "        decoded += char * int(count)\n",
    "    return decoded\n",
    "\n",
    "print(decode_rle(m))\n"
   ]
  },
  {
   "cell_type": "code",
   "execution_count": 33,
   "metadata": {},
   "outputs": [
    {
     "name": "stdout",
     "output_type": "stream",
     "text": [
      "True\n"
     ]
    }
   ],
   "source": [
    "#18\n",
    "n = input(\"word: \")\n",
    "n2 = input(\"word: \")\n",
    "\n",
    "def is_rotation(str1, str2):\n",
    "    if len(str1) != len(str2):\n",
    "        return False\n",
    "    return str2 in (str1 + str1)\n",
    "\n",
    "print(is_rotation(n, n2))"
   ]
  },
  {
   "cell_type": "code",
   "execution_count": 34,
   "metadata": {},
   "outputs": [
    {
     "name": "stdout",
     "output_type": "stream",
     "text": [
      "['']\n"
     ]
    }
   ],
   "source": [
    "#19\n",
    "o = input(\"word: \")\n",
    "\n",
    "def find_permutations(s):\n",
    "    import itertools\n",
    "    return [''.join(p) for p in itertools.permutations(s)]\n",
    "\n",
    "print(find_permutations(o))"
   ]
  },
  {
   "cell_type": "code",
   "execution_count": 35,
   "metadata": {},
   "outputs": [
    {
     "name": "stdout",
     "output_type": "stream",
     "text": [
      "0\n"
     ]
    }
   ],
   "source": [
    "#20\n",
    "p = input(\"word: \")\n",
    "sub = input(\"Substring to find: \")\n",
    "\n",
    "def str_index(s, sub):\n",
    "    try:\n",
    "        return s.index(sub)\n",
    "    except ValueError:\n",
    "        raise ValueError(f\"'{sub}' not found in string\")\n",
    "\n",
    "print(str_index(p, sub))"
   ]
  },
  {
   "cell_type": "markdown",
   "metadata": {},
   "source": [
    "## Topic 2: Working with Dictionaries and Other Data Structures\n",
    "\n",
    "1. Create a dictionary to store the squares of numbers from 1 to 10.\n",
    "2. Write a program to merge two dictionaries.\n",
    "3. Implement a function to count the occurrences of each word in a given sentence.\n",
    "4. Create a dictionary from two lists: one for keys and one for values.\n",
    "5. Write a program to check if a given key exists in a dictionary.\n",
    "6. Implement a function to invert a dictionary (swap keys and values).\n",
    "7. Write a program to find the key with the highest value in a dictionary.\n",
    "8. Implement a function to sort a dictionary by its values.\n",
    "9. Write a program to remove all duplicate values from a list.\n",
    "10. Create a set containing unique elements from a list.\n",
    "11. Implement a function to find the intersection of two sets.\n",
    "12. Write a program to check if one set is a subset of another.\n",
    "13. Implement a function to find the union of two dictionaries.\n",
    "14. Write a program to flatten a nested list.\n",
    "15. Create a function to find the most frequent element in a list.\n",
    "16. Implement a stack using a list with push and pop operations.\n",
    "17. Write a program to check if a given list is a palindrome.\n",
    "18. Implement a queue using a list with enqueue and dequeue operations.\n",
    "19. Write a program to convert a list of tuples into a dictionary.\n",
    "20. Create a function to find the common elements in two lists.\n"
   ]
  },
  {
   "cell_type": "code",
   "execution_count": 36,
   "metadata": {},
   "outputs": [
    {
     "name": "stdout",
     "output_type": "stream",
     "text": [
      "{1: 1, 2: 4, 3: 9, 4: 16, 5: 25, 6: 36, 7: 49, 8: 64, 9: 81, 10: 100}\n"
     ]
    }
   ],
   "source": [
    "#1\n",
    "\n",
    "a2 = {i: i**2 for i in range(1, 11)}\n",
    "print(a2)\n"
   ]
  },
  {
   "cell_type": "code",
   "execution_count": 37,
   "metadata": {},
   "outputs": [
    {
     "name": "stdout",
     "output_type": "stream",
     "text": [
      "{'a': 1, 'b': 2, 'c': 3, 'd': 4}\n"
     ]
    }
   ],
   "source": [
    "#2\n",
    "dict1 = {'a': 1, 'b': 2}\n",
    "dict2 = {'c': 3, 'd': 4}\n",
    "merged_dict = {**dict1, **dict2}\n",
    "print(merged_dict)"
   ]
  },
  {
   "cell_type": "code",
   "execution_count": 38,
   "metadata": {},
   "outputs": [
    {
     "name": "stdout",
     "output_type": "stream",
     "text": [
      "{}\n"
     ]
    }
   ],
   "source": [
    "#3\n",
    "sentence = input(\"Enter a sentence: \")\n",
    "\n",
    "def word_count(sentence):\n",
    "    words = sentence.split()\n",
    "    count = {}\n",
    "    for word in words:\n",
    "        count[word] = count.get(word, 0) + 1\n",
    "    return count\n",
    "\n",
    "print(word_count(sentence))"
   ]
  },
  {
   "cell_type": "code",
   "execution_count": 39,
   "metadata": {},
   "outputs": [
    {
     "name": "stdout",
     "output_type": "stream",
     "text": [
      "{'a': 1, 'b': 2, 'c': 3}\n"
     ]
    }
   ],
   "source": [
    "#4\n",
    "keys = ['a', 'b', 'c']\n",
    "values = [1, 2, 3]\n",
    "my_dict = dict(zip(keys, values))\n",
    "print(my_dict)\n"
   ]
  },
  {
   "cell_type": "code",
   "execution_count": 40,
   "metadata": {},
   "outputs": [
    {
     "name": "stdout",
     "output_type": "stream",
     "text": [
      "False\n"
     ]
    }
   ],
   "source": [
    "#5\n",
    "key = input(\"Enter a key: \")\n",
    "my_dict = {'a': 1, 'b': 2}\n",
    "print(key in my_dict)"
   ]
  },
  {
   "cell_type": "code",
   "execution_count": 41,
   "metadata": {},
   "outputs": [
    {
     "name": "stdout",
     "output_type": "stream",
     "text": [
      "{1: 'a', 2: 'b', 3: 'c'}\n"
     ]
    }
   ],
   "source": [
    "#6\n",
    "def invert_dict(d):\n",
    "    return {v: k for k, v in d.items()}\n",
    "\n",
    "my_dict = {'a': 1, 'b': 2, 'c': 3}\n",
    "print(invert_dict(my_dict))"
   ]
  },
  {
   "cell_type": "code",
   "execution_count": 42,
   "metadata": {},
   "outputs": [
    {
     "name": "stdout",
     "output_type": "stream",
     "text": [
      "c\n"
     ]
    }
   ],
   "source": [
    "#7\n",
    "my_dict = {'a': 1, 'b': 2, 'c': 3}\n",
    "max_key = max(my_dict, key=my_dict.get)\n",
    "print(max_key)"
   ]
  },
  {
   "cell_type": "code",
   "execution_count": 43,
   "metadata": {},
   "outputs": [
    {
     "name": "stdout",
     "output_type": "stream",
     "text": [
      "{'b': 1, 'c': 2, 'a': 3}\n"
     ]
    }
   ],
   "source": [
    "#8\n",
    "def sort_dict_by_value(d):\n",
    "    return dict(sorted(d.items(), key=lambda item: item[1]))\n",
    "\n",
    "my_dict = {'a': 3, 'b': 1, 'c': 2}\n",
    "print(sort_dict_by_value(my_dict))"
   ]
  },
  {
   "cell_type": "code",
   "execution_count": 44,
   "metadata": {},
   "outputs": [
    {
     "name": "stdout",
     "output_type": "stream",
     "text": [
      "[1, 2, 3, 4]\n"
     ]
    }
   ],
   "source": [
    "#9\n",
    "my_list = [1, 2, 2, 3, 4, 4]\n",
    "unique_list = list(set(my_list))\n",
    "print(unique_list)"
   ]
  },
  {
   "cell_type": "code",
   "execution_count": 45,
   "metadata": {},
   "outputs": [
    {
     "name": "stdout",
     "output_type": "stream",
     "text": [
      "{1, 2, 3, 4}\n"
     ]
    }
   ],
   "source": [
    "#10\n",
    "my_list = [1, 2, 2, 3, 4, 4]\n",
    "my_set = set(my_list)\n",
    "print(my_set)"
   ]
  },
  {
   "cell_type": "code",
   "execution_count": 46,
   "metadata": {},
   "outputs": [
    {
     "name": "stdout",
     "output_type": "stream",
     "text": [
      "{2, 3}\n"
     ]
    }
   ],
   "source": [
    "#11\n",
    "def intersection(set1, set2):\n",
    "    return set1 & set2\n",
    "\n",
    "set1 = {1, 2, 3}\n",
    "set2 = {2, 3, 4}\n",
    "print(intersection(set1, set2))"
   ]
  },
  {
   "cell_type": "code",
   "execution_count": 47,
   "metadata": {},
   "outputs": [
    {
     "name": "stdout",
     "output_type": "stream",
     "text": [
      "True\n"
     ]
    }
   ],
   "source": [
    "#12\n",
    "set1 = {1, 2, 3}\n",
    "set2 = {1, 2, 3, 4}\n",
    "print(set1.issubset(set2))"
   ]
  },
  {
   "cell_type": "code",
   "execution_count": 48,
   "metadata": {},
   "outputs": [
    {
     "name": "stdout",
     "output_type": "stream",
     "text": [
      "{'a': 1, 'b': 3, 'c': 4}\n"
     ]
    }
   ],
   "source": [
    "#13\n",
    "def union_dicts(dict1, dict2):\n",
    "    return {**dict1, **dict2}\n",
    "\n",
    "dict1 = {'a': 1, 'b': 2}\n",
    "dict2 = {'b': 3, 'c': 4}\n",
    "print(union_dicts(dict1, dict2))"
   ]
  },
  {
   "cell_type": "code",
   "execution_count": 49,
   "metadata": {},
   "outputs": [
    {
     "name": "stdout",
     "output_type": "stream",
     "text": [
      "[1, 2, 3, 4, 5, 6]\n"
     ]
    }
   ],
   "source": [
    "#14\n",
    "def flatten(lst):\n",
    "    result = []\n",
    "    for item in lst:\n",
    "        if isinstance(item, list):\n",
    "            result.extend(flatten(item))\n",
    "        else:\n",
    "            result.append(item)\n",
    "    return result\n",
    "\n",
    "nested_list = [1, [2, 3], [4, [5, 6]]]\n",
    "print(flatten(nested_list))"
   ]
  },
  {
   "cell_type": "code",
   "execution_count": 50,
   "metadata": {},
   "outputs": [
    {
     "name": "stdout",
     "output_type": "stream",
     "text": [
      "3\n"
     ]
    }
   ],
   "source": [
    "#15\n",
    "from collections import Counter\n",
    "\n",
    "def most_frequent(lst):\n",
    "    return Counter(lst).most_common(1)[0][0]\n",
    "\n",
    "my_list = [1, 2, 2, 3, 3, 3, 4]\n",
    "print(most_frequent(my_list))"
   ]
  },
  {
   "cell_type": "code",
   "execution_count": 51,
   "metadata": {},
   "outputs": [
    {
     "name": "stdout",
     "output_type": "stream",
     "text": [
      "[5]\n"
     ]
    }
   ],
   "source": [
    "#16\n",
    "stack = []\n",
    "stack.append(5)  # Push\n",
    "stack.append(2)\n",
    "stack.pop()      # Pop\n",
    "print(stack)"
   ]
  },
  {
   "cell_type": "code",
   "execution_count": 52,
   "metadata": {},
   "outputs": [
    {
     "name": "stdout",
     "output_type": "stream",
     "text": [
      "True\n"
     ]
    }
   ],
   "source": [
    "#17\n",
    "def is_palindrome(lst):\n",
    "    return lst == lst[::-1]\n",
    "\n",
    "my_list = [1, 2, 3, 2, 1]\n",
    "print(is_palindrome(my_list))"
   ]
  },
  {
   "cell_type": "code",
   "execution_count": 53,
   "metadata": {},
   "outputs": [
    {
     "name": "stdout",
     "output_type": "stream",
     "text": [
      "[2]\n"
     ]
    }
   ],
   "source": [
    "#18\n",
    "queue = []\n",
    "queue.append(1)  # Enqueue\n",
    "queue.append(2)\n",
    "queue.pop(0)     # Dequeue\n",
    "print(queue)"
   ]
  },
  {
   "cell_type": "code",
   "execution_count": 54,
   "metadata": {},
   "outputs": [
    {
     "name": "stdout",
     "output_type": "stream",
     "text": [
      "{'a': 1, 'b': 2}\n"
     ]
    }
   ],
   "source": [
    "#19\n",
    "tuples = [('a', 1), ('b', 2)]\n",
    "my_dict = dict(tuples)\n",
    "print(my_dict)"
   ]
  },
  {
   "cell_type": "code",
   "execution_count": 55,
   "metadata": {},
   "outputs": [
    {
     "name": "stdout",
     "output_type": "stream",
     "text": [
      "[2, 3]\n"
     ]
    }
   ],
   "source": [
    "#20\n",
    "def common_elements(list1, list2):\n",
    "    return list(set(list1) & set(list2))\n",
    "\n",
    "list1 = [1, 2, 3]\n",
    "list2 = [2, 3, 4]\n",
    "print(common_elements(list1, list2))\n"
   ]
  },
  {
   "cell_type": "markdown",
   "metadata": {},
   "source": [
    "## Topic 3: Text Processing Including Working with Text Files\n",
    "\n",
    "1. Write a program to read a text file and print its contents.\n",
    "2. Write a program to count the number of lines in a text file.\n",
    "3. Write a program to count the number of words in a text file.\n",
    "4. Write a program to count the number of characters in a text file.\n",
    "5. Write a program to find and print the longest word in a text file.\n",
    "6. Write a program to replace a word in a text file with another word.\n",
    "7. Write a program to append a line to a text file.\n",
    "8. Write a program to reverse the contents of a text file and write it to a new file.\n",
    "9. Write a program to find the frequency of each word in a text file.\n",
    "10. Write a program to read a text file and print only the lines that start with a specific letter.\n",
    "11. Write a program to create a new file that contains only unique words from a given text file.\n",
    "12. Write a program to merge the contents of two text files into a third file.\n",
    "13. Write a program to remove all punctuation from a text file and write the result to a new file.\n",
    "14. Write a program to count the occurrences of a specific word in a text file.\n",
    "15. Write a program to check if a specific word exists in a text file.\n",
    "16. Write a program to split a text file into multiple smaller files, each containing a fixed number of lines.\n",
    "17. Write a program to find all palindromic words in a text file.\n",
    "18. Write a program to sort the words in a text file alphabetically and save the result to a new file.\n",
    "19. Write a program to capitalize the first letter of every word in a text file.\n",
    "20. Write a program to remove duplicate lines from a text file and save the result to a new file."
   ]
  },
  {
   "cell_type": "code",
   "execution_count": 56,
   "metadata": {},
   "outputs": [
    {
     "name": "stdout",
     "output_type": "stream",
     "text": [
      "hola caracola, a donde vas BitterKas, que agobio microbio\n",
      "tengo un hambre que da calambre\n",
      "romor\n",
      "\n"
     ]
    }
   ],
   "source": [
    "#1\n",
    "\n",
    "def read_file(filename):\n",
    "    with open(filename, 'r', encoding='utf-8') as file:\n",
    "        print(file.read())\n",
    "\n",
    "read_file(\"1.txt\")"
   ]
  },
  {
   "cell_type": "code",
   "execution_count": 57,
   "metadata": {},
   "outputs": [
    {
     "name": "stdout",
     "output_type": "stream",
     "text": [
      "3\n"
     ]
    }
   ],
   "source": [
    "#2\n",
    "\n",
    "def count_lines(filename):\n",
    "    with open(filename, 'r', encoding='utf-8') as file:\n",
    "        return len(file.readlines())\n",
    "\n",
    "print(count_lines(\"1.txt\"))"
   ]
  },
  {
   "cell_type": "code",
   "execution_count": 58,
   "metadata": {},
   "outputs": [
    {
     "name": "stdout",
     "output_type": "stream",
     "text": [
      "16\n"
     ]
    }
   ],
   "source": [
    "#3\n",
    "\n",
    "def count_words(filename):\n",
    "    with open(filename, 'r', encoding='utf-8') as file:\n",
    "        return len(file.read().split())\n",
    "\n",
    "print(count_words(\"1.txt\"))\n"
   ]
  },
  {
   "cell_type": "code",
   "execution_count": 59,
   "metadata": {},
   "outputs": [
    {
     "name": "stdout",
     "output_type": "stream",
     "text": [
      "96\n"
     ]
    }
   ],
   "source": [
    "#4\n",
    "def count_characters(filename):\n",
    "    with open(filename, 'r', encoding='utf-8') as file:\n",
    "        return len(file.read())\n",
    "\n",
    "print(count_characters(\"1.txt\"))"
   ]
  },
  {
   "cell_type": "code",
   "execution_count": 60,
   "metadata": {},
   "outputs": [
    {
     "name": "stdout",
     "output_type": "stream",
     "text": [
      "BitterKas,\n"
     ]
    }
   ],
   "source": [
    "#5\n",
    "def find_longest_word(filename):\n",
    "    with open(filename, 'r', encoding='utf-8') as file:\n",
    "        words = file.read().split()\n",
    "        return max(words, key=len)\n",
    "\n",
    "print(find_longest_word(\"1.txt\"))"
   ]
  },
  {
   "cell_type": "code",
   "execution_count": 61,
   "metadata": {},
   "outputs": [
    {
     "name": "stdout",
     "output_type": "stream",
     "text": [
      "'' had been replaced by ''\n"
     ]
    }
   ],
   "source": [
    "#6\n",
    "\n",
    "def replace_word(filename, old_word, new_word):\n",
    "    with open(filename, 'r', encoding='utf-8') as file:\n",
    "        content = file.read().replace(old_word, new_word)\n",
    "    with open(filename, 'w', encoding='utf-8') as file:\n",
    "        file.write(content)\n",
    "\n",
    "\n",
    "    \n",
    "old_word = input(\"Enter the word to replace: \")\n",
    "\n",
    "new_word = input(\"Enter the new word: \")\n",
    "\n",
    "replace_word(\"1.txt\", old_word, new_word)\n",
    "print(f\"'{old_word}' had been replaced by '{new_word}'\")"
   ]
  },
  {
   "cell_type": "code",
   "execution_count": 62,
   "metadata": {},
   "outputs": [
    {
     "name": "stdout",
     "output_type": "stream",
     "text": [
      "'' had been appended to the file\n"
     ]
    }
   ],
   "source": [
    "#7\n",
    "def append_line(filename, line):\n",
    "    with open(filename, 'a', encoding='utf-8') as file:\n",
    "        file.write('\\n' + line)\n",
    "\n",
    "new_line = input(\"Enter a new line to append: \")\n",
    "append_line(\"1.txt\", new_line)\n",
    "print(f\"'{new_line}' had been appended to the file\")"
   ]
  },
  {
   "cell_type": "code",
   "execution_count": 63,
   "metadata": {},
   "outputs": [
    {
     "name": "stdout",
     "output_type": "stream",
     "text": [
      "The content of '1.txt' had been reversed and saved to 'reversed_1.txt'\n"
     ]
    }
   ],
   "source": [
    "#8\n",
    "def reverse_file_content(input_filename, output_filename):\n",
    "    with open(input_filename, 'r', encoding='utf-8') as file:\n",
    "        content = file.read()[::-1]\n",
    "    with open(output_filename, 'w', encoding='utf-8') as file:\n",
    "        file.write(content)\n",
    "\n",
    "\n",
    "reverse_file_content(\"1.txt\", \"reversed_1.txt\")\n",
    "print(\"The content of '1.txt' had been reversed and saved to 'reversed_1.txt'\")"
   ]
  },
  {
   "cell_type": "code",
   "execution_count": 64,
   "metadata": {},
   "outputs": [
    {
     "name": "stdout",
     "output_type": "stream",
     "text": [
      "Counter({'que': 2, 'hola': 1, 'caracola': 1, 'a': 1, 'donde': 1, 'vas': 1, 'bitterkas': 1, 'agobio': 1, 'microbio': 1, 'tengo': 1, 'un': 1, 'hambre': 1, 'da': 1, 'calambre': 1, 'romor': 1})\n"
     ]
    }
   ],
   "source": [
    "#9\n",
    "from collections import Counter\n",
    "import re\n",
    "\n",
    "def word_frequency(document):\n",
    "    with open(document, 'r') as file:\n",
    "        text = file.read()\n",
    "        words = re.findall(r'\\w+', text.lower())\n",
    "        word_count = Counter(words)\n",
    "    return word_count\n",
    "\n",
    "print(word_frequency(\"1.txt\"))\n"
   ]
  },
  {
   "cell_type": "code",
   "execution_count": 65,
   "metadata": {},
   "outputs": [
    {
     "name": "stdout",
     "output_type": "stream",
     "text": [
      "hola caracola, a donde vas BitterKas, que agobio microbio\n",
      "tengo un hambre que da calambre\n",
      "romor\n",
      "\n"
     ]
    }
   ],
   "source": [
    "#10\n",
    "def lines_starting_with(file_path, letter):\n",
    "    with open(file_path, 'r') as file:\n",
    "        for line in file:\n",
    "            if line.startswith(letter):\n",
    "                print(line.strip())\n",
    "\n",
    "letter = input(\"Enter a letter: \")\n",
    "lines_starting_with(\"1.txt\", letter)"
   ]
  },
  {
   "cell_type": "code",
   "execution_count": 66,
   "metadata": {},
   "outputs": [],
   "source": [
    "#11\n",
    "def unique_words(file_path, output_path):\n",
    "    with open(file_path, 'r') as file:\n",
    "        words = set(re.findall(r'\\w+', file.read().lower()))\n",
    "    with open(output_path, 'w') as output_file:\n",
    "        for word in words:\n",
    "            output_file.write(word + '\\n')\n",
    "\n",
    "unique_words(\"1.txt\", \"unique_1.txt\")"
   ]
  },
  {
   "cell_type": "code",
   "execution_count": 67,
   "metadata": {},
   "outputs": [],
   "source": [
    "#12\n",
    "def merge_files(file1, file2, output_file):\n",
    "    with open(file1, 'r') as f1, open(file2, 'r') as f2:\n",
    "        content = f1.read() + '\\n' + f2.read()\n",
    "    with open(output_file, 'w') as output:\n",
    "        output.write(content)\n",
    "\n",
    "merge_files('1.txt', 'reversed_1.txt', 'merged_1.txt')"
   ]
  },
  {
   "cell_type": "code",
   "execution_count": 68,
   "metadata": {},
   "outputs": [],
   "source": [
    "#13\n",
    "import string\n",
    "\n",
    "def remove_punctuation(input_file, output_file):\n",
    "    with open(input_file, 'r') as file:\n",
    "        text = file.read()\n",
    "    text_no_punctuation = text.translate(str.maketrans('', '', string.punctuation))\n",
    "    with open(output_file, 'w') as output:\n",
    "        output.write(text_no_punctuation)\n",
    "\n",
    "remove_punctuation('1.txt', 'no_punctuation_1.txt')"
   ]
  },
  {
   "cell_type": "code",
   "execution_count": 69,
   "metadata": {},
   "outputs": [
    {
     "name": "stdout",
     "output_type": "stream",
     "text": [
      "98\n"
     ]
    }
   ],
   "source": [
    "#14\n",
    "def word_count(file_path, word):\n",
    "    with open(file_path, 'r') as file:\n",
    "        text = file.read().lower()\n",
    "    return text.count(word.lower())\n",
    "\n",
    "word = input(\"Enter a word: \")\n",
    "\n",
    "print(word_count(\"1.txt\", word))\n"
   ]
  },
  {
   "cell_type": "code",
   "execution_count": 70,
   "metadata": {},
   "outputs": [
    {
     "name": "stdout",
     "output_type": "stream",
     "text": [
      "True\n"
     ]
    }
   ],
   "source": [
    "#15\n",
    "def word_exists(file_path, word):\n",
    "    with open(file_path, 'r') as file:\n",
    "        text = file.read().lower()\n",
    "    return word.lower() in text\n",
    "\n",
    "word = input(\"Enter a word: \")\n",
    "\n",
    "print(word_exists(\"1.txt\", word))"
   ]
  },
  {
   "cell_type": "code",
   "execution_count": 71,
   "metadata": {},
   "outputs": [
    {
     "ename": "ValueError",
     "evalue": "invalid literal for int() with base 10: ''",
     "output_type": "error",
     "traceback": [
      "\u001b[1;31m---------------------------------------------------------------------------\u001b[0m",
      "\u001b[1;31mValueError\u001b[0m                                Traceback (most recent call last)",
      "Cell \u001b[1;32mIn[71], line 12\u001b[0m\n\u001b[0;32m      9\u001b[0m             output\u001b[38;5;241m.\u001b[39mwritelines(lines[i:i \u001b[38;5;241m+\u001b[39m lines_per_file])\n\u001b[0;32m     10\u001b[0m         file_count \u001b[38;5;241m+\u001b[39m\u001b[38;5;241m=\u001b[39m \u001b[38;5;241m1\u001b[39m\n\u001b[1;32m---> 12\u001b[0m lines_per_file \u001b[38;5;241m=\u001b[39m \u001b[38;5;28mint\u001b[39m(\u001b[38;5;28minput\u001b[39m(\u001b[38;5;124m\"\u001b[39m\u001b[38;5;124mEnter the number of lines per file: \u001b[39m\u001b[38;5;124m\"\u001b[39m))\n\u001b[0;32m     14\u001b[0m split_file(\u001b[38;5;124m\"\u001b[39m\u001b[38;5;124m1.txt\u001b[39m\u001b[38;5;124m\"\u001b[39m, lines_per_file)\n",
      "\u001b[1;31mValueError\u001b[0m: invalid literal for int() with base 10: ''"
     ]
    }
   ],
   "source": [
    "#16\n",
    "def split_file(file_path, lines_per_file):\n",
    "    with open(file_path, 'r') as file:\n",
    "        lines = file.readlines()\n",
    "    \n",
    "    file_count = 1\n",
    "    for i in range(0, len(lines), lines_per_file):\n",
    "        with open(f'output_{file_count}.txt', 'w') as output:\n",
    "            output.writelines(lines[i:i + lines_per_file])\n",
    "        file_count += 1\n",
    "\n",
    "lines_per_file = int(input(\"Enter the number of lines per file: \"))\n",
    "\n",
    "split_file(\"1.txt\", lines_per_file)"
   ]
  },
  {
   "cell_type": "code",
   "execution_count": 41,
   "metadata": {},
   "outputs": [
    {
     "name": "stdout",
     "output_type": "stream",
     "text": [
      "['a', 'romor']\n"
     ]
    }
   ],
   "source": [
    "#17\n",
    "def find_palindromes(file_path):\n",
    "    with open(file_path, 'r') as file:\n",
    "        words = re.findall(r'\\w+', file.read().lower())\n",
    "    return [word for word in words if word == word[::-1]]\n",
    "\n",
    "print(find_palindromes(\"1.txt\"))"
   ]
  },
  {
   "cell_type": "code",
   "execution_count": 44,
   "metadata": {},
   "outputs": [],
   "source": [
    "#18\n",
    "def sort_words(file_path, output_path):\n",
    "    with open(file_path, 'r') as file:\n",
    "        words = re.findall(r'\\w+', file.read().lower())\n",
    "    sorted_words = sorted(words)\n",
    "    with open(output_path, 'w') as output_file:\n",
    "        for word in sorted_words:\n",
    "            output_file.write(word + '\\n')\n",
    "\n",
    "sort_words(\"1.txt\", \"sorted_1.txt\")\n"
   ]
  },
  {
   "cell_type": "code",
   "execution_count": 45,
   "metadata": {},
   "outputs": [],
   "source": [
    "#19\n",
    "def capitalize_words(file_path, output_path):\n",
    "    with open(file_path, 'r') as file:\n",
    "        text = file.read()\n",
    "    capitalized_text = ' '.join([word.capitalize() for word in text.split()])\n",
    "    with open(output_path, 'w') as output_file:\n",
    "        output_file.write(capitalized_text)\n",
    "\n",
    "capitalize_words(\"1.txt\", \"capitalized_1.txt\")\n"
   ]
  },
  {
   "cell_type": "code",
   "execution_count": 49,
   "metadata": {},
   "outputs": [],
   "source": [
    "#20\n",
    "def remove_duplicate_lines(input_file, output_file):\n",
    "    with open(input_file, 'r') as file:\n",
    "        lines = file.readlines()\n",
    "    unique_lines = set(lines)\n",
    "    with open(output_file, 'w') as output:\n",
    "        output.writelines(unique_lines)\n",
    "\n",
    "remove_duplicate_lines(\"1.txt\", \"no_duplicates_1.txt\")\n"
   ]
  },
  {
   "cell_type": "markdown",
   "metadata": {},
   "source": [
    "## Topic 4: Pandas Usage Oriented Processing\n",
    "\n",
    "1. Create a DataFrame from a dictionary of lists and display it.\n",
    "2. Add a new column to an existing DataFrame based on calculations from other columns.\n",
    "3. Filter rows in a DataFrame based on a condition.\n",
    "4. Sort a DataFrame by a specific column in ascending order.\n",
    "5. Write a program to rename the columns of a DataFrame.\n",
    "6. Drop rows with missing values from a DataFrame.\n",
    "7. Write a program to fill missing values in a DataFrame with a default value.\n",
    "8. Group a DataFrame by a specific column and calculate the mean of each group.\n",
    "9. Write a program to merge two DataFrames on a common column.\n",
    "10. Write a program to concatenate two DataFrames vertically.\n",
    "11. Create a new column in a DataFrame that is the result of applying a custom function to an existing column.\n",
    "12. Write a program to count the unique values in a specific column of a DataFrame.\n",
    "13. Write a program to find the maximum value in a specific column of a DataFrame.\n",
    "14. Write a program to filter a DataFrame based on multiple conditions.\n",
    "15. Write a program to calculate the correlation matrix of a DataFrame.\n",
    "16. Write a program to apply a lambda function to every element of a column in a DataFrame.\n",
    "17. Write a program to drop duplicate rows from a DataFrame.\n",
    "18. Write a program to reset the index of a DataFrame.\n",
    "19. Write a program to save a DataFrame to a CSV file.\n",
    "20. Write a program to read a CSV file into a DataFrame and display the first five rows."
   ]
  },
  {
   "cell_type": "code",
   "execution_count": 84,
   "metadata": {},
   "outputs": [
    {
     "name": "stdout",
     "output_type": "stream",
     "text": [
      "    Name  Menu  Price\n",
      "0   Juan     1   15.0\n",
      "1  Lucas     3   13.5\n",
      "2  Diego     2   14.5\n"
     ]
    }
   ],
   "source": [
    "#1\n",
    "import pandas as pd\n",
    "\n",
    "data = {'Name': ['Juan', 'Lucas', 'Diego'], 'Menu': [1, 3, 2], 'Price': [15, 13.5, 14.5]}\n",
    "df = pd.DataFrame(data)\n",
    "print(df)\n"
   ]
  },
  {
   "cell_type": "code",
   "execution_count": 85,
   "metadata": {},
   "outputs": [
    {
     "name": "stdout",
     "output_type": "stream",
     "text": [
      "    Name  Menu  Price   Tip\n",
      "0   Juan     1   15.0  1.50\n",
      "1  Lucas     3   13.5  1.35\n",
      "2  Diego     2   14.5  1.45\n"
     ]
    }
   ],
   "source": [
    "#2\n",
    "df['Tip'] = df['Price'] * 0.1\n",
    "print(df)"
   ]
  },
  {
   "cell_type": "code",
   "execution_count": 86,
   "metadata": {},
   "outputs": [
    {
     "name": "stdout",
     "output_type": "stream",
     "text": [
      "    Name  Menu  Price   Tip\n",
      "0   Juan     1   15.0  1.50\n",
      "2  Diego     2   14.5  1.45\n"
     ]
    }
   ],
   "source": [
    "#3\n",
    "filtered_df = df[df['Price'] > 14]\n",
    "print(filtered_df)"
   ]
  },
  {
   "cell_type": "code",
   "execution_count": 87,
   "metadata": {},
   "outputs": [
    {
     "name": "stdout",
     "output_type": "stream",
     "text": [
      "    Name  Menu  Price   Tip\n",
      "1  Lucas     3   13.5  1.35\n",
      "2  Diego     2   14.5  1.45\n",
      "0   Juan     1   15.0  1.50\n"
     ]
    }
   ],
   "source": [
    "#4\n",
    "sorted_df = df.sort_values(by='Price')\n",
    "print(sorted_df)"
   ]
  },
  {
   "cell_type": "code",
   "execution_count": 88,
   "metadata": {},
   "outputs": [
    {
     "name": "stdout",
     "output_type": "stream",
     "text": [
      "  Client  Option  Price   Tip\n",
      "0   Juan       1   15.0  1.50\n",
      "1  Lucas       3   13.5  1.35\n",
      "2  Diego       2   14.5  1.45\n"
     ]
    }
   ],
   "source": [
    "#5\n",
    "df.rename(columns={'Name': 'Client', 'Menu': 'Option'}, inplace=True)\n",
    "print(df)"
   ]
  },
  {
   "cell_type": "code",
   "execution_count": 89,
   "metadata": {},
   "outputs": [
    {
     "name": "stdout",
     "output_type": "stream",
     "text": [
      "  Client  Option  Price   Tip\n",
      "0   Juan       1   15.0  1.50\n",
      "1  Lucas       3   13.5  1.35\n",
      "2  Diego       2   14.5  1.45\n"
     ]
    }
   ],
   "source": [
    "#6\n",
    "df.dropna(inplace=True)\n",
    "print(df)"
   ]
  },
  {
   "cell_type": "code",
   "execution_count": 90,
   "metadata": {},
   "outputs": [
    {
     "name": "stdout",
     "output_type": "stream",
     "text": [
      "  Client  Option  Price   Tip\n",
      "0   Juan       1   15.0  1.50\n",
      "1  Lucas       3   13.5  1.35\n",
      "2  Diego       2   14.5  1.45\n"
     ]
    }
   ],
   "source": [
    "#7\n",
    "df.fillna(0, inplace=True)\n",
    "print(df)"
   ]
  },
  {
   "cell_type": "code",
   "execution_count": 91,
   "metadata": {},
   "outputs": [
    {
     "name": "stdout",
     "output_type": "stream",
     "text": [
      "       Option   Tip\n",
      "Price              \n",
      "13.5      3.0  1.35\n",
      "14.5      2.0  1.45\n",
      "15.0      1.0  1.50\n"
     ]
    }
   ],
   "source": [
    "#8\n",
    "grouped_df = df.groupby('Price').mean(numeric_only=True)\n",
    "print(grouped_df)"
   ]
  },
  {
   "cell_type": "code",
   "execution_count": 94,
   "metadata": {},
   "outputs": [
    {
     "name": "stdout",
     "output_type": "stream",
     "text": [
      "  Client_x  Option  Price_x   Tip Client_y  Price_y\n",
      "0     Juan       1     15.0  1.50   Javier     15.0\n",
      "1    Diego       2     14.5  1.45    Pablo     14.5\n",
      "2    Diego       2     14.5  1.45   Carlos     14.5\n"
     ]
    }
   ],
   "source": [
    "#9\n",
    "df1 = pd.DataFrame({'Client': ['Pablo', 'Javier', 'Carlos'], 'Option': [2, 1, 2], 'Price': [14.5, 15, 14.5]})\n",
    "merged_df = pd.merge(df, df1, on='Option')\n",
    "print(merged_df)"
   ]
  },
  {
   "cell_type": "code",
   "execution_count": 95,
   "metadata": {},
   "outputs": [
    {
     "name": "stdout",
     "output_type": "stream",
     "text": [
      "   Client  Option  Price   Tip\n",
      "0    Juan       1   15.0  1.50\n",
      "1   Lucas       3   13.5  1.35\n",
      "2   Diego       2   14.5  1.45\n",
      "3   Pablo       2   14.5   NaN\n",
      "4  Javier       1   15.0   NaN\n",
      "5  Carlos       2   14.5   NaN\n"
     ]
    }
   ],
   "source": [
    "#10\n",
    "concat_df = pd.concat([df, df1], ignore_index=True)\n",
    "print(concat_df)"
   ]
  },
  {
   "cell_type": "code",
   "execution_count": 97,
   "metadata": {},
   "outputs": [
    {
     "name": "stdout",
     "output_type": "stream",
     "text": [
      "   Client  Option  Price   Tip Paid\n",
      "0    Juan       1   15.0  1.50  yes\n",
      "1   Lucas       3   13.5  1.35  yes\n",
      "2   Diego       2   14.5  1.45  yes\n",
      "3   Pablo       2   14.5   NaN   no\n",
      "4  Javier       1   15.0   NaN   no\n",
      "5  Carlos       2   14.5   NaN   no\n"
     ]
    }
   ],
   "source": [
    "#11\n",
    "concat_df['Paid'] = concat_df['Tip'].apply(lambda x: 'yes' if x > 0 else 'no')\n",
    "print(concat_df)"
   ]
  },
  {
   "cell_type": "code",
   "execution_count": 100,
   "metadata": {},
   "outputs": [
    {
     "name": "stdout",
     "output_type": "stream",
     "text": [
      "3\n"
     ]
    }
   ],
   "source": [
    "#12\n",
    "df = concat_df\n",
    "unique_counts = df['Option'].nunique()\n",
    "print(unique_counts)"
   ]
  },
  {
   "cell_type": "code",
   "execution_count": 102,
   "metadata": {},
   "outputs": [
    {
     "name": "stdout",
     "output_type": "stream",
     "text": [
      "1.5\n"
     ]
    }
   ],
   "source": [
    "#13\n",
    "max_value = df['Tip'].max()\n",
    "print(max_value)"
   ]
  },
  {
   "cell_type": "code",
   "execution_count": 104,
   "metadata": {},
   "outputs": [
    {
     "name": "stdout",
     "output_type": "stream",
     "text": [
      "   Client  Option  Price  Tip Paid\n",
      "3   Pablo       2   14.5  NaN   no\n",
      "4  Javier       1   15.0  NaN   no\n",
      "5  Carlos       2   14.5  NaN   no\n"
     ]
    }
   ],
   "source": [
    "#14\n",
    "filtered_df = df[(df['Paid'] == \"no\") & (df['Price'] > 14)]\n",
    "print(filtered_df)"
   ]
  },
  {
   "cell_type": "code",
   "execution_count": 106,
   "metadata": {},
   "outputs": [
    {
     "name": "stdout",
     "output_type": "stream",
     "text": [
      "          Option     Price       Tip\n",
      "Option  1.000000 -0.970143 -0.981981\n",
      "Price  -0.970143  1.000000  1.000000\n",
      "Tip    -0.981981  1.000000  1.000000\n"
     ]
    }
   ],
   "source": [
    "#15\n",
    "correlation_matrix = df.corr(numeric_only=True)\n",
    "print(correlation_matrix)"
   ]
  },
  {
   "cell_type": "code",
   "execution_count": 109,
   "metadata": {},
   "outputs": [
    {
     "name": "stdout",
     "output_type": "stream",
     "text": [
      "   Client  Option  Price   Tip Paid  Final Price\n",
      "0    Juan       1   15.0  1.50  yes        16.50\n",
      "1   Lucas       3   13.5  1.35  yes        14.85\n",
      "2   Diego       2   14.5  1.45  yes        15.95\n",
      "3   Pablo       2   14.5   NaN   no          NaN\n",
      "4  Javier       1   15.0   NaN   no          NaN\n",
      "5  Carlos       2   14.5   NaN   no          NaN\n"
     ]
    }
   ],
   "source": [
    "#16\n",
    "df['Final Price'] = df.apply(lambda row: row[\"Price\"] + row['Tip'], axis=1)\n",
    "print(df)"
   ]
  },
  {
   "cell_type": "code",
   "execution_count": 110,
   "metadata": {},
   "outputs": [
    {
     "name": "stdout",
     "output_type": "stream",
     "text": [
      "   Client  Option  Price   Tip Paid  Final Price\n",
      "0    Juan       1   15.0  1.50  yes        16.50\n",
      "1   Lucas       3   13.5  1.35  yes        14.85\n",
      "2   Diego       2   14.5  1.45  yes        15.95\n",
      "3   Pablo       2   14.5   NaN   no          NaN\n",
      "4  Javier       1   15.0   NaN   no          NaN\n",
      "5  Carlos       2   14.5   NaN   no          NaN\n"
     ]
    }
   ],
   "source": [
    "#17\n",
    "df.drop_duplicates(inplace=True)\n",
    "print(df)"
   ]
  },
  {
   "cell_type": "code",
   "execution_count": 111,
   "metadata": {},
   "outputs": [
    {
     "name": "stdout",
     "output_type": "stream",
     "text": [
      "   Client  Option  Price   Tip Paid  Final Price\n",
      "0    Juan       1   15.0  1.50  yes        16.50\n",
      "1   Lucas       3   13.5  1.35  yes        14.85\n",
      "2   Diego       2   14.5  1.45  yes        15.95\n",
      "3   Pablo       2   14.5   NaN   no          NaN\n",
      "4  Javier       1   15.0   NaN   no          NaN\n",
      "5  Carlos       2   14.5   NaN   no          NaN\n"
     ]
    }
   ],
   "source": [
    "#18\n",
    "df.reset_index(drop=True, inplace=True)\n",
    "print(df)"
   ]
  },
  {
   "cell_type": "code",
   "execution_count": 112,
   "metadata": {},
   "outputs": [],
   "source": [
    "#19\n",
    "df.to_csv('output.csv', index=False)"
   ]
  },
  {
   "cell_type": "code",
   "execution_count": 113,
   "metadata": {},
   "outputs": [
    {
     "name": "stdout",
     "output_type": "stream",
     "text": [
      "   Client  Option  Price   Tip Paid  Final Price\n",
      "0    Juan       1   15.0  1.50  yes        16.50\n",
      "1   Lucas       3   13.5  1.35  yes        14.85\n",
      "2   Diego       2   14.5  1.45  yes        15.95\n",
      "3   Pablo       2   14.5   NaN   no          NaN\n",
      "4  Javier       1   15.0   NaN   no          NaN\n"
     ]
    }
   ],
   "source": [
    "#20\n",
    "df_loaded = pd.read_csv('output.csv')\n",
    "print(df_loaded.head())"
   ]
  }
 ],
 "metadata": {
  "kernelspec": {
   "display_name": "base",
   "language": "python",
   "name": "python3"
  },
  "language_info": {
   "codemirror_mode": {
    "name": "ipython",
    "version": 3
   },
   "file_extension": ".py",
   "mimetype": "text/x-python",
   "name": "python",
   "nbconvert_exporter": "python",
   "pygments_lexer": "ipython3",
   "version": "3.11.5"
  }
 },
 "nbformat": 4,
 "nbformat_minor": 2
}
