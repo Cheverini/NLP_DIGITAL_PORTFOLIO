{
 "cells": [
  {
   "cell_type": "markdown",
   "id": "080cade5",
   "metadata": {},
   "source": [
    "# Regular Expressions Exercises\n",
    "\n",
    "**Do not** use any AI help in solving it. "
   ]
  },
  {
   "cell_type": "markdown",
   "id": "1a55b260",
   "metadata": {},
   "source": [
    "### Exercise 0 (Example Solution)\n",
    "Find all occurrences of the word 'Python' (case-sensitive) in a given text."
   ]
  },
  {
   "cell_type": "code",
   "execution_count": 3,
   "id": "daccef60",
   "metadata": {},
   "outputs": [
    {
     "name": "stdout",
     "output_type": "stream",
     "text": [
      "Matches found: ['Python', 'Python']\n"
     ]
    }
   ],
   "source": [
    "import re\n",
    "text = 'I love Python because Python is amazing.'\n",
    "pattern = r'Python'\n",
    "matches = re.findall(pattern, text)\n",
    "print('Matches found:', matches)  # Expected output: ['Python', 'Python']"
   ]
  },
  {
   "cell_type": "markdown",
   "id": "414a4d0c",
   "metadata": {},
   "source": [
    "### Exercise 1\n",
    "Find all occurrences of the word 'Python' (case-sensitive) in a given text."
   ]
  },
  {
   "cell_type": "code",
   "execution_count": 3,
   "id": "20ef5cea",
   "metadata": {},
   "outputs": [
    {
     "name": "stdout",
     "output_type": "stream",
     "text": [
      "Matches found: ['Python']\n"
     ]
    }
   ],
   "source": [
    "text = 'I am trying to learn Python.'\n",
    "pattern = r'Python'\n",
    "matches = re.findall(pattern, text)\n",
    "print('Matches found:', matches)"
   ]
  },
  {
   "cell_type": "markdown",
   "id": "ba238748",
   "metadata": {},
   "source": [
    "### Exercise 2\n",
    "Find all sequences of digits in a text."
   ]
  },
  {
   "cell_type": "code",
   "execution_count": 4,
   "id": "bbed1a1c",
   "metadata": {},
   "outputs": [
    {
     "name": "stdout",
     "output_type": "stream",
     "text": [
      "Matches found: ['50', '21']\n"
     ]
    }
   ],
   "source": [
    "text = '50 elephants are being chased by 21 hunters.'\n",
    "pattern = r'\\d+'\n",
    "matches = re.findall(pattern, text) \n",
    "print('Matches found:', matches)\n"
   ]
  },
  {
   "cell_type": "markdown",
   "id": "4be8c3c0",
   "metadata": {},
   "source": [
    "### Exercise 3\n",
    "Extract all words that start with a capital letter."
   ]
  },
  {
   "cell_type": "code",
   "execution_count": 31,
   "id": "8f17e6d5",
   "metadata": {},
   "outputs": [
    {
     "name": "stdout",
     "output_type": "stream",
     "text": [
      "Matches found: ['Hello', 'You']\n"
     ]
    }
   ],
   "source": [
    "text = 'Hello how are You?'\n",
    "pattern = r'[A-Z]\\w+'\n",
    "matches = re.findall(pattern, text) \n",
    "print('Matches found:', matches)"
   ]
  },
  {
   "cell_type": "markdown",
   "id": "23eaa564",
   "metadata": {},
   "source": [
    "### Exercise 4\n",
    "Match all valid email addresses."
   ]
  },
  {
   "cell_type": "code",
   "execution_count": 25,
   "id": "65011967",
   "metadata": {},
   "outputs": [
    {
     "name": "stdout",
     "output_type": "stream",
     "text": [
      "Matches found: ['1@gmail.com', 'kjdue@hui.com', 'jiowe.eceedfw@fwew.com']\n"
     ]
    }
   ],
   "source": [
    "text = '1@gmail.com, kjdue@hui.com, jiowe.eceedfw@fwew.com'\n",
    "pattern = r'[^@ \\t\\r\\n]+@\\w+\\.\\w+'\n",
    "matches = re.findall(pattern, text) \n",
    "print('Matches found:', matches)"
   ]
  },
  {
   "cell_type": "markdown",
   "id": "4dd92f4c",
   "metadata": {},
   "source": [
    "### Exercise 5\n",
    "Find all words that contain at least one digit."
   ]
  },
  {
   "cell_type": "code",
   "execution_count": 28,
   "id": "6b954be1",
   "metadata": {},
   "outputs": [
    {
     "name": "stdout",
     "output_type": "stream",
     "text": [
      "Matches found: ['33pears', '44apples', '55bananas', '66grapes']\n"
     ]
    }
   ],
   "source": [
    "text = '33pears, 44apples, 55bananas, 66grapes, carrots'\n",
    "pattern = r'\\d+\\w+'\n",
    "matches = re.findall(pattern, text) \n",
    "print('Matches found:', matches)"
   ]
  },
  {
   "cell_type": "markdown",
   "id": "e6b0495f",
   "metadata": {},
   "source": [
    "### Exercise 6\n",
    "Replace all instances of 'colour' with 'color'."
   ]
  },
  {
   "cell_type": "code",
   "execution_count": 29,
   "id": "f18b5e0b",
   "metadata": {},
   "outputs": [
    {
     "name": "stdout",
     "output_type": "stream",
     "text": [
      "Subtitute: My favourite color is green, what is your favourite color?\n"
     ]
    }
   ],
   "source": [
    "text = 'My favourite colour is green, what is your favourite colour?'\n",
    "pattern = r'colour'\n",
    "matches = re.sub(pattern, 'color', text) \n",
    "print('Subtitute:', matches)"
   ]
  },
  {
   "cell_type": "markdown",
   "id": "1dec5414",
   "metadata": {},
   "source": [
    "### Exercise 7\n",
    "Extract all words that are exactly 5 letters long."
   ]
  },
  {
   "cell_type": "code",
   "execution_count": 32,
   "id": "a8e56f29",
   "metadata": {},
   "outputs": [
    {
     "name": "stdout",
     "output_type": "stream",
     "text": [
      "Matches found: ['Today', 'great', 'think']\n"
     ]
    }
   ],
   "source": [
    "text = 'Today is a great day, but tomorrow will be better, I think.'\n",
    "pattern = r'\\b\\w{5}\\b'\n",
    "matches = re.findall(pattern, text) \n",
    "print('Matches found:', matches)"
   ]
  },
  {
   "cell_type": "markdown",
   "id": "e8dab707",
   "metadata": {},
   "source": [
    "### Exercise 8\n",
    "Find all dates in the format DD/MM/YYYY or DD-MM-YYYY."
   ]
  },
  {
   "cell_type": "code",
   "execution_count": 33,
   "id": "acb9d89a",
   "metadata": {},
   "outputs": [
    {
     "name": "stdout",
     "output_type": "stream",
     "text": [
      "Matches found: ['29/02/2004', '29-02-2004']\n"
     ]
    }
   ],
   "source": [
    "text = '29/02/2004, 29-02-2004'\n",
    "pattern = r'\\d{2}[/-]\\d{2}[/-]\\d{4}'\n",
    "matches = re.findall(pattern, text) \n",
    "print('Matches found:', matches)"
   ]
  },
  {
   "cell_type": "markdown",
   "id": "11000484",
   "metadata": {},
   "source": [
    "### Exercise 9\n",
    "Extract all hashtags from a tweet."
   ]
  },
  {
   "cell_type": "code",
   "execution_count": 34,
   "id": "7c69bd3c",
   "metadata": {},
   "outputs": [
    {
     "name": "stdout",
     "output_type": "stream",
     "text": [
      "Matches found: ['#KanyeWest']\n"
     ]
    }
   ],
   "source": [
    "text = 'What is #KanyeWest doing?'\n",
    "pattern = r'#\\w+'\n",
    "matches = re.findall(pattern, text) \n",
    "print('Matches found:', matches)"
   ]
  },
  {
   "cell_type": "markdown",
   "id": "6be1253f",
   "metadata": {},
   "source": [
    "### Exercise 10\n",
    "Match all words that do not contain vowels."
   ]
  },
  {
   "cell_type": "code",
   "execution_count": 35,
   "id": "b7e7fb20",
   "metadata": {},
   "outputs": [
    {
     "name": "stdout",
     "output_type": "stream",
     "text": [
      "Matches found: ['GB', 'DK', 'FR']\n"
     ]
    }
   ],
   "source": [
    "text = 'GB stands for Great Britain, DK stands for Denmark, FR stands for France.'\n",
    "pattern = r'\\b[^aeiouAEIOU]\\w\\b'\n",
    "matches = re.findall(pattern, text) \n",
    "print('Matches found:', matches)"
   ]
  },
  {
   "cell_type": "markdown",
   "id": "86209e2f",
   "metadata": {},
   "source": [
    "### Exercise 11\n",
    "Find all words that start with 'pre' and are at least 6 characters long."
   ]
  },
  {
   "cell_type": "code",
   "execution_count": 39,
   "id": "b8397027",
   "metadata": {},
   "outputs": [
    {
     "name": "stdout",
     "output_type": "stream",
     "text": [
      "Matches found: ['Preprocessor', 'preprocessor', 'prepositional', 'predict', 'prehistoric']\n"
     ]
    }
   ],
   "source": [
    "text = 'Preprocessor, postprocessor, preprocessor, postprocessor, prepositional, postpositional, predict, prehistoric, prepo'\n",
    "pattern = r'[pP][r][e]\\w{3,}'\n",
    "matches = re.findall(pattern, text) \n",
    "print('Matches found:', matches)"
   ]
  },
  {
   "cell_type": "markdown",
   "id": "583eea14",
   "metadata": {},
   "source": [
    "### Exercise 12\n",
    "Validate a password with at least one uppercase, one lowercase, one digit, and at least 8 characters."
   ]
  },
  {
   "cell_type": "code",
   "execution_count": 15,
   "id": "f34cc26d",
   "metadata": {},
   "outputs": [
    {
     "name": "stdout",
     "output_type": "stream",
     "text": [
      "Matches found: ['Mi1rr9RT23m']\n"
     ]
    }
   ],
   "source": [
    "text = 'Mi1rr9RT23m'\n",
    "pattern = r'(?=.*[a-z])(?=.*[A-Z])(?=.*\\d)[A-Za-z\\d]{8,}'\n",
    "matches = re.findall(pattern, text) \n",
    "print('Matches found:', matches)\n"
   ]
  },
  {
   "cell_type": "markdown",
   "id": "97538535",
   "metadata": {},
   "source": [
    "### Exercise 13\n",
    "Find all repeated words in a text (e.g., 'the the')."
   ]
  },
  {
   "cell_type": "code",
   "execution_count": 15,
   "id": "df995e03",
   "metadata": {},
   "outputs": [
    {
     "name": "stdout",
     "output_type": "stream",
     "text": [
      "Matches found: ['camera', 'is']\n"
     ]
    }
   ],
   "source": [
    "text = 'The camera camera camera is 1000 USD, the lens is 500 USD, the tripod is is 150 USD'\n",
    "pattern = r'\\b(\\w+)\\s+\\1\\b'\n",
    "matches = re.findall(pattern, text) \n",
    "print('Matches found:', matches)"
   ]
  },
  {
   "cell_type": "markdown",
   "id": "48795d4b",
   "metadata": {},
   "source": [
    "### Exercise 14\n",
    "Extract all domain names from URLs."
   ]
  },
  {
   "cell_type": "code",
   "execution_count": 15,
   "id": "d9100f6b",
   "metadata": {},
   "outputs": [
    {
     "name": "stdout",
     "output_type": "stream",
     "text": [
      "Matches found: ['google.com', 'example.com', 'ca.gov', 'abc.com']\n"
     ]
    }
   ],
   "source": [
    "text = 'https://www.google.com/djdj, http://www.example.com, https://www.ca.gov, http://www.abc.com'\n",
    "pattern = r'\\b[^https?://www\\.]\\w+\\.\\w+[^/.*]\\b'\n",
    "matches = re.findall(pattern, text) \n",
    "print('Matches found:', matches)\n"
   ]
  },
  {
   "cell_type": "markdown",
   "id": "e0df8900",
   "metadata": {},
   "source": [
    "### Exercise 15\n",
    "Validate a properly formatted IPv4 address."
   ]
  },
  {
   "cell_type": "code",
   "execution_count": 25,
   "id": "3d10c972",
   "metadata": {},
   "outputs": [
    {
     "name": "stdout",
     "output_type": "stream",
     "text": [
      "Matches found: ['192.168.5.18', '10.10.10.10', '1.567.89.1', '78.234.535.21', '123.456.789.0', '321.654.987.0']\n"
     ]
    }
   ],
   "source": [
    "text = '192.168.5.18, 10.10.10.10, 1.567.89.1, 78.234.535.21, 123.456.789.0, 321.654.987.0, 3333.654.2'\n",
    "pattern = r'\\b\\d{1,3}\\.\\d{1,3}\\.\\d{1,3}\\.\\d{1,3}\\b'\n",
    "matches = re.findall(pattern, text) \n",
    "print('Matches found:', matches)"
   ]
  },
  {
   "cell_type": "markdown",
   "id": "5ee9de3c",
   "metadata": {},
   "source": [
    "### Exercise 16\n",
    "Match all valid Twitter handles."
   ]
  },
  {
   "cell_type": "code",
   "execution_count": 30,
   "id": "067273f2",
   "metadata": {},
   "outputs": [
    {
     "name": "stdout",
     "output_type": "stream",
     "text": [
      "Matches found: ['@X', '@mroncero', '@2334HGG_', '@KanyeWest', '@1234']\n"
     ]
    }
   ],
   "source": [
    "text = '@X, @mroncero, @2334HGG_, @KanyeWest, @1234'\n",
    "pattern = r'@\\b[A-Za-z0-9_]{1,15}\\b'\n",
    "matches = re.findall(pattern, text) \n",
    "print('Matches found:', matches)\n"
   ]
  },
  {
   "cell_type": "markdown",
   "id": "a52f75df",
   "metadata": {},
   "source": [
    "### Exercise 17\n",
    "Find all numbers written in words (e.g., 'one', 'two', 'three')."
   ]
  },
  {
   "cell_type": "code",
   "execution_count": null,
   "id": "e7921979",
   "metadata": {},
   "outputs": [],
   "source": [
    "text = 'one, two, three, four, five, six, seven, eight, nine, ten, how many numbers are there?'\n",
    "pattern = r'????????????'\n",
    "matches = re.findall(pattern, text) \n",
    "print('Matches found:', matches)"
   ]
  },
  {
   "cell_type": "markdown",
   "id": "8ef40dca",
   "metadata": {},
   "source": [
    "### Exercise 18\n",
    "Find all words that contain double letters."
   ]
  },
  {
   "cell_type": "code",
   "execution_count": 35,
   "id": "98f58929",
   "metadata": {},
   "outputs": [
    {
     "name": "stdout",
     "output_type": "stream",
     "text": [
      "['a', 's', 'l']\n"
     ]
    }
   ],
   "source": [
    "text = 'aare there any numbers in this text, pleasse tell me'\n",
    "pattern = r'\\b\\w*(\\w)\\1\\w*\\b'\n",
    "matches = re.findall(pattern, text)\n",
    "print(matches) "
   ]
  },
  {
   "cell_type": "markdown",
   "id": "927b93e2",
   "metadata": {},
   "source": [
    "### Exercise 19\n",
    "Extract quoted text from a sentence."
   ]
  },
  {
   "cell_type": "code",
   "execution_count": 36,
   "id": "3ff0911d",
   "metadata": {},
   "outputs": [
    {
     "name": "stdout",
     "output_type": "stream",
     "text": [
      "Matches found: ['some people are happy']\n"
     ]
    }
   ],
   "source": [
    "text = 'They said \"some people are happy\", but I am not sure.'\n",
    "pattern = r'\\\"(.*)?\\\"' \n",
    "matches = re.findall(pattern, text)\n",
    "print('Matches found:', matches) "
   ]
  },
  {
   "cell_type": "markdown",
   "id": "9d8c7695",
   "metadata": {},
   "source": [
    "### Exercise 20\n",
    "Match sentences ending with a question mark."
   ]
  },
  {
   "cell_type": "code",
   "execution_count": null,
   "id": "4435c171",
   "metadata": {},
   "outputs": [
    {
     "name": "stdout",
     "output_type": "stream",
     "text": [
      "Matches found: ['What do you think?', 'What does she think?']\n"
     ]
    }
   ],
   "source": [
    "text = 'Imagination is more important than knowledge. What do you think?. What does she think?'\n",
    "pattern = r'[A-Z][^?!.]*\\?' \n",
    "matches = re.findall(pattern, text)\n",
    "print('Matches found:', matches) "
   ]
  }
 ],
 "metadata": {
  "kernelspec": {
   "display_name": "base",
   "language": "python",
   "name": "python3"
  },
  "language_info": {
   "codemirror_mode": {
    "name": "ipython",
    "version": 3
   },
   "file_extension": ".py",
   "mimetype": "text/x-python",
   "name": "python",
   "nbconvert_exporter": "python",
   "pygments_lexer": "ipython3",
   "version": "3.11.5"
  }
 },
 "nbformat": 4,
 "nbformat_minor": 5
}
