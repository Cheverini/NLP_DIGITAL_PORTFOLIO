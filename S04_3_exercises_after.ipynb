{
 "cells": [
  {
   "cell_type": "markdown",
   "metadata": {},
   "source": [
    "# Exercise after class\n",
    "\n",
    "The goal of this exercise is to explore the NLTK library using the manual or online tutorials (avoid AI usage). First, create one (or more) texts in spanish (just copy paste it somewhere). The use the NLTK library of pure Python to performe at least this action to the text(s). \n",
    "\n",
    "1. Case folding\n",
    "2. Word normalization\n",
    "3. Tokenization\n",
    "4. Stemming\n",
    "5. Lemmatization\n",
    "6. Sentence segmentation\n",
    "7. PoS Tagging\n",
    "8. Named Entity Recognition (NER)\n",
    "\n",
    "Just try to explore and understand the library. Check in the reference book and NLTK manual for the new concepts."
   ]
  },
  {
   "cell_type": "code",
   "execution_count": 2,
   "metadata": {},
   "outputs": [
    {
     "name": "stdout",
     "output_type": "stream",
     "text": [
      "Alquiler de coche\n",
      "Buenas tardes, soy Alba. He alquilado un coche para el próximo fin de semana y me gustaría saber dónde debo recogerlo. Yo vivo en Barcelona.\n",
      "Buenas tardes Alba, muchas gracias por llamar. Yo vivo en un pueblo a 20 minutos de Barcelona. ¿Crees que podrías venir a recogerlo el viernes?\n",
      "Depende de a qué hora ya que el viernes trabajo.\n",
      "Me vendría bien entre las 17.00h y las 19.00h. ¿Cómo lo tienes?\n",
      "Lo tengo complicado, acabo de trabajar a las 18.30 y creo que no me daría tiempo. ¿Cómo te iría el sábado a primera hora?\n",
      "Si vinieses antes de las 9.00h me vendría bien.\n",
      "Pues si te parece bien, te aviso cuando salga de Barcelona, sobre las 8.00h, así cuando llegues ya está todo listo.\n",
      "Genial Alba, quedamos así, te espero el sábado antes de las 9.00h.\n"
     ]
    }
   ],
   "source": [
    "with open('S04_3_text.txt', 'r', encoding='utf-8-sig') as file:\n",
    "        text = file.read()\n",
    "print(text)"
   ]
  },
  {
   "cell_type": "code",
   "execution_count": 3,
   "metadata": {},
   "outputs": [
    {
     "name": "stdout",
     "output_type": "stream",
     "text": [
      "alquiler de coche\n",
      "buenas tardes, soy alba. he alquilado un coche para el próximo fin de semana y me gustaría saber dónde debo recogerlo. yo vivo en barcelona.\n",
      "buenas tardes alba, muchas gracias por llamar. yo vivo en un pueblo a 20 minutos de barcelona. ¿crees que podrías venir a recogerlo el viernes?\n",
      "depende de a qué hora ya que el viernes trabajo.\n",
      "me vendría bien entre las 17.00h y las 19.00h. ¿cómo lo tienes?\n",
      "lo tengo complicado, acabo de trabajar a las 18.30 y creo que no me daría tiempo. ¿cómo te iría el sábado a primera hora?\n",
      "si vinieses antes de las 9.00h me vendría bien.\n",
      "pues si te parece bien, te aviso cuando salga de barcelona, sobre las 8.00h, así cuando llegues ya está todo listo.\n",
      "genial alba, quedamos así, te espero el sábado antes de las 9.00h.\n"
     ]
    }
   ],
   "source": [
    "#1\n",
    "casefolded_text = text.lower()\n",
    "print(casefolded_text)"
   ]
  }
 ],
 "metadata": {
  "kernelspec": {
   "display_name": "base",
   "language": "python",
   "name": "python3"
  },
  "language_info": {
   "codemirror_mode": {
    "name": "ipython",
    "version": 3
   },
   "file_extension": ".py",
   "mimetype": "text/x-python",
   "name": "python",
   "nbconvert_exporter": "python",
   "pygments_lexer": "ipython3",
   "version": "3.11.5"
  }
 },
 "nbformat": 4,
 "nbformat_minor": 2
}
