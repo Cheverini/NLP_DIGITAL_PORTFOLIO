{
 "cells": [
  {
   "cell_type": "markdown",
   "metadata": {},
   "source": [
    "# Exercise after class\n",
    "\n",
    "The goal of this exercise is to explore the NLTK library using the manual or online tutorials (avoid AI usage). First, create one (or more) texts in spanish (just copy paste it somewhere). The use the NLTK library of pure Python to performe at least this action to the text(s). \n",
    "\n",
    "1. Case folding\n",
    "2. Word normalization\n",
    "3. Tokenization\n",
    "4. Stemming\n",
    "5. Lemmatization\n",
    "6. Sentence segmentation\n",
    "7. PoS Tagging\n",
    "8. Named Entity Recognition (NER)\n",
    "\n",
    "Just try to explore and understand the library. Check in the reference book and NLTK manual for the new concepts."
   ]
  },
  {
   "cell_type": "code",
   "execution_count": 1,
   "metadata": {},
   "outputs": [],
   "source": [
    "import re\n",
    "import nltk\n",
    "from nltk.tokenize import sent_tokenize\n",
    "from nltk.stem import PorterStemmer, WordNetLemmatizer"
   ]
  },
  {
   "cell_type": "code",
   "execution_count": 3,
   "metadata": {},
   "outputs": [
    {
     "name": "stdout",
     "output_type": "stream",
     "text": [
      "Alquiler de coche\n",
      "Buenas tardes, soy Alba. He alquilado un coche para el próximo fin de semana y me gustaría saber dónde debo recogerlo. Yo vivo en Barcelona.\n",
      "Buenas tardes Alba, muchas gracias por llamar. Yo vivo en un pueblo a 20 minutos de Barcelona. ¿Crees que podrías venir a recogerlo el viernes?\n",
      "Depende de a qué hora ya que el viernes trabajo.\n",
      "Me vendría bien entre las 17.00h y las 19.00h. ¿Cómo lo tienes?\n",
      "Lo tengo complicado, acabo de trabajar a las 18.30 y creo que no me daría tiempo. ¿Cómo te iría el sábado a primera hora?\n",
      "Si vinieses antes de las 9.00h me vendría bien.\n",
      "Pues si te parece bien, te aviso cuando salga de Barcelona, sobre las 8.00h, así cuando llegues ya está todo listo.\n",
      "Genial Alba, quedamos así, te espero el sábado antes de las 9.00h.\n"
     ]
    }
   ],
   "source": [
    "with open('S04_3_text.txt', 'r', encoding='utf-8-sig') as file:\n",
    "        text = file.read()\n",
    "print(text)"
   ]
  },
  {
   "cell_type": "code",
   "execution_count": 4,
   "metadata": {},
   "outputs": [
    {
     "name": "stdout",
     "output_type": "stream",
     "text": [
      "alquiler de coche\n",
      "buenas tardes, soy alba. he alquilado un coche para el próximo fin de semana y me gustaría saber dónde debo recogerlo. yo vivo en barcelona.\n",
      "buenas tardes alba, muchas gracias por llamar. yo vivo en un pueblo a 20 minutos de barcelona. ¿crees que podrías venir a recogerlo el viernes?\n",
      "depende de a qué hora ya que el viernes trabajo.\n",
      "me vendría bien entre las 17.00h y las 19.00h. ¿cómo lo tienes?\n",
      "lo tengo complicado, acabo de trabajar a las 18.30 y creo que no me daría tiempo. ¿cómo te iría el sábado a primera hora?\n",
      "si vinieses antes de las 9.00h me vendría bien.\n",
      "pues si te parece bien, te aviso cuando salga de barcelona, sobre las 8.00h, así cuando llegues ya está todo listo.\n",
      "genial alba, quedamos así, te espero el sábado antes de las 9.00h.\n"
     ]
    }
   ],
   "source": [
    "#1\n",
    "casefolded_text = text.lower()\n",
    "print(casefolded_text)"
   ]
  },
  {
   "cell_type": "code",
   "execution_count": 5,
   "metadata": {},
   "outputs": [
    {
     "name": "stdout",
     "output_type": "stream",
     "text": [
      "alquiler de coche buenas tardes  soy alba  he alquilado un coche para el pr ximo fin de semana y me gustar a saber d nde debo recogerlo  yo vivo en barcelona  buenas tardes alba  muchas gracias por llamar  yo vivo en un pueblo a 20 minutos de barcelona   crees que podr as venir a recogerlo el viernes  depende de a qu  hora ya que el viernes trabajo  me vendr a bien entre las 17 00h y las 19 00h   c mo lo tienes  lo tengo complicado  acabo de trabajar a las 18 30 y creo que no me dar a tiempo   c mo te ir a el s bado a primera hora  si vinieses antes de las 9 00h me vendr a bien  pues si te parece bien  te aviso cuando salga de barcelona  sobre las 8 00h  as  cuando llegues ya est  todo listo  genial alba  quedamos as   te espero el s bado antes de las 9 00h \n"
     ]
    }
   ],
   "source": [
    "#2\n",
    "clean_text = re.sub(r'[^a-zA-Z0-9]', ' ', casefolded_text)\n",
    "print(clean_text)"
   ]
  },
  {
   "cell_type": "code",
   "execution_count": 6,
   "metadata": {},
   "outputs": [
    {
     "name": "stdout",
     "output_type": "stream",
     "text": [
      "['alquiler', 'de', 'coche', 'buenas', 'tardes', 'soy', 'alba', 'he', 'alquilado', 'un', 'coche', 'para', 'el', 'pr', 'ximo', 'fin', 'de', 'semana', 'y', 'me', 'gustar', 'a', 'saber', 'd', 'nde', 'debo', 'recogerlo', 'yo', 'vivo', 'en', 'barcelona', 'buenas', 'tardes', 'alba', 'muchas', 'gracias', 'por', 'llamar', 'yo', 'vivo', 'en', 'un', 'pueblo', 'a', '20', 'minutos', 'de', 'barcelona', 'crees', 'que', 'podr', 'as', 'venir', 'a', 'recogerlo', 'el', 'viernes', 'depende', 'de', 'a', 'qu', 'hora', 'ya', 'que', 'el', 'viernes', 'trabajo', 'me', 'vendr', 'a', 'bien', 'entre', 'las', '17', '00h', 'y', 'las', '19', '00h', 'c', 'mo', 'lo', 'tienes', 'lo', 'tengo', 'complicado', 'acabo', 'de', 'trabajar', 'a', 'las', '18', '30', 'y', 'creo', 'que', 'no', 'me', 'dar', 'a', 'tiempo', 'c', 'mo', 'te', 'ir', 'a', 'el', 's', 'bado', 'a', 'primera', 'hora', 'si', 'vinieses', 'antes', 'de', 'las', '9', '00h', 'me', 'vendr', 'a', 'bien', 'pues', 'si', 'te', 'parece', 'bien', 'te', 'aviso', 'cuando', 'salga', 'de', 'barcelona', 'sobre', 'las', '8', '00h', 'as', 'cuando', 'llegues', 'ya', 'est', 'todo', 'listo', 'genial', 'alba', 'quedamos', 'as', 'te', 'espero', 'el', 's', 'bado', 'antes', 'de', 'las', '9', '00h']\n"
     ]
    }
   ],
   "source": [
    "#3\n",
    "tokeniced_text = clean_text.split()\n",
    "print(tokeniced_text)"
   ]
  },
  {
   "cell_type": "code",
   "execution_count": 7,
   "metadata": {},
   "outputs": [
    {
     "name": "stdout",
     "output_type": "stream",
     "text": [
      "['alquil', 'de', 'coch', 'buena', 'tard', 'soy', 'alba', 'he', 'alquilado', 'un', 'coch', 'para', 'el', 'pr', 'ximo', 'fin', 'de', 'semana', 'y', 'me', 'gustar', 'a', 'saber', 'd', 'nde', 'debo', 'recogerlo', 'yo', 'vivo', 'en', 'barcelona', 'buena', 'tard', 'alba', 'mucha', 'gracia', 'por', 'llamar', 'yo', 'vivo', 'en', 'un', 'pueblo', 'a', '20', 'minuto', 'de', 'barcelona', 'cree', 'que', 'podr', 'as', 'venir', 'a', 'recogerlo', 'el', 'viern', 'depend', 'de', 'a', 'qu', 'hora', 'ya', 'que', 'el', 'viern', 'trabajo', 'me', 'vendr', 'a', 'bien', 'entr', 'la', '17', '00h', 'y', 'la', '19', '00h', 'c', 'mo', 'lo', 'tien', 'lo', 'tengo', 'complicado', 'acabo', 'de', 'trabajar', 'a', 'la', '18', '30', 'y', 'creo', 'que', 'no', 'me', 'dar', 'a', 'tiempo', 'c', 'mo', 'te', 'ir', 'a', 'el', 's', 'bado', 'a', 'primera', 'hora', 'si', 'vinies', 'ant', 'de', 'la', '9', '00h', 'me', 'vendr', 'a', 'bien', 'pue', 'si', 'te', 'parec', 'bien', 'te', 'aviso', 'cuando', 'salga', 'de', 'barcelona', 'sobr', 'la', '8', '00h', 'as', 'cuando', 'llegu', 'ya', 'est', 'todo', 'listo', 'genial', 'alba', 'quedamo', 'as', 'te', 'espero', 'el', 's', 'bado', 'ant', 'de', 'la', '9', '00h']\n"
     ]
    }
   ],
   "source": [
    "#4\n",
    "stemmer = PorterStemmer()\n",
    "ntlk_stemmeingtext = [stemmer.stem(word) for word in tokeniced_text]\n",
    "print(ntlk_stemmeingtext)"
   ]
  }
 ],
 "metadata": {
  "kernelspec": {
   "display_name": "base",
   "language": "python",
   "name": "python3"
  },
  "language_info": {
   "codemirror_mode": {
    "name": "ipython",
    "version": 3
   },
   "file_extension": ".py",
   "mimetype": "text/x-python",
   "name": "python",
   "nbconvert_exporter": "python",
   "pygments_lexer": "ipython3",
   "version": "3.11.5"
  }
 },
 "nbformat": 4,
 "nbformat_minor": 2
}
