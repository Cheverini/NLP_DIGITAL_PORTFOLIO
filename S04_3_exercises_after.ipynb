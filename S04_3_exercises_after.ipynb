{
 "cells": [
  {
   "cell_type": "markdown",
   "metadata": {},
   "source": [
    "# Exercise after class\n",
    "\n",
    "The goal of this exercise is to explore the NLTK library using the manual or online tutorials (avoid AI usage). First, create one (or more) texts in spanish (just copy paste it somewhere). The use the NLTK library of pure Python to performe at least this action to the text(s). \n",
    "\n",
    "1. Case folding\n",
    "2. Word normalization\n",
    "3. Tokenization\n",
    "4. Stemming\n",
    "5. Lemmatization\n",
    "6. Sentence segmentation\n",
    "7. PoS Tagging\n",
    "8. Named Entity Recognition (NER)\n",
    "\n",
    "Just try to explore and understand the library. Check in the reference book and NLTK manual for the new concepts."
   ]
  },
  {
   "cell_type": "code",
   "execution_count": 38,
   "metadata": {},
   "outputs": [],
   "source": [
    "import re\n",
    "import nltk\n",
    "from nltk.tokenize import sent_tokenize, word_tokenize\n",
    "from nltk.stem import PorterStemmer, WordNetLemmatizer, SnowballStemmer\n",
    "from nltk.tag import pos_tag\n",
    "import es_core_news_sm\n",
    "import spacy"
   ]
  },
  {
   "cell_type": "code",
   "execution_count": 20,
   "metadata": {},
   "outputs": [
    {
     "name": "stdout",
     "output_type": "stream",
     "text": [
      "Alquiler de coche\n",
      "Buenas tardes, soy Alba. He alquilado un coche para el próximo fin de semana y me gustaría saber dónde debo recogerlo. Yo vivo en Barcelona.\n",
      "Buenas tardes Alba, muchas gracias por llamar. Yo vivo en un pueblo a 20 minutos de Barcelona. ¿Crees que podrías venir a recogerlo el viernes?\n",
      "Depende de a qué hora ya que el viernes trabajo.\n",
      "Me vendría bien entre las 17.00h y las 19.00h. ¿Cómo lo tienes?\n",
      "Lo tengo complicado, acabo de trabajar a las 18.30 y creo que no me daría tiempo. ¿Cómo te iría el sábado a primera hora?\n",
      "Si vinieses antes de las 9.00h me vendría bien.\n",
      "Pues si te parece bien, te aviso cuando salga de Barcelona, sobre las 8.00h, así cuando llegues ya está todo listo.\n",
      "Genial Alba, quedamos así, te espero el sábado antes de las 9.00h.\n"
     ]
    }
   ],
   "source": [
    "with open('S04_3_text.txt', 'r', encoding='utf-8-sig') as file:\n",
    "        text = file.read()\n",
    "print(text)"
   ]
  },
  {
   "cell_type": "code",
   "execution_count": 21,
   "metadata": {},
   "outputs": [
    {
     "name": "stdout",
     "output_type": "stream",
     "text": [
      "alquiler de coche\n",
      "buenas tardes, soy alba. he alquilado un coche para el próximo fin de semana y me gustaría saber dónde debo recogerlo. yo vivo en barcelona.\n",
      "buenas tardes alba, muchas gracias por llamar. yo vivo en un pueblo a 20 minutos de barcelona. ¿crees que podrías venir a recogerlo el viernes?\n",
      "depende de a qué hora ya que el viernes trabajo.\n",
      "me vendría bien entre las 17.00h y las 19.00h. ¿cómo lo tienes?\n",
      "lo tengo complicado, acabo de trabajar a las 18.30 y creo que no me daría tiempo. ¿cómo te iría el sábado a primera hora?\n",
      "si vinieses antes de las 9.00h me vendría bien.\n",
      "pues si te parece bien, te aviso cuando salga de barcelona, sobre las 8.00h, así cuando llegues ya está todo listo.\n",
      "genial alba, quedamos así, te espero el sábado antes de las 9.00h.\n"
     ]
    }
   ],
   "source": [
    "#1\n",
    "casefolded_text = text.lower()\n",
    "print(casefolded_text)"
   ]
  },
  {
   "cell_type": "code",
   "execution_count": 22,
   "metadata": {},
   "outputs": [
    {
     "name": "stdout",
     "output_type": "stream",
     "text": [
      "alquiler de coche buenas tardes  soy alba  he alquilado un coche para el pr ximo fin de semana y me gustar a saber d nde debo recogerlo  yo vivo en barcelona  buenas tardes alba  muchas gracias por llamar  yo vivo en un pueblo a 20 minutos de barcelona   crees que podr as venir a recogerlo el viernes  depende de a qu  hora ya que el viernes trabajo  me vendr a bien entre las 17 00h y las 19 00h   c mo lo tienes  lo tengo complicado  acabo de trabajar a las 18 30 y creo que no me dar a tiempo   c mo te ir a el s bado a primera hora  si vinieses antes de las 9 00h me vendr a bien  pues si te parece bien  te aviso cuando salga de barcelona  sobre las 8 00h  as  cuando llegues ya est  todo listo  genial alba  quedamos as   te espero el s bado antes de las 9 00h \n"
     ]
    }
   ],
   "source": [
    "#2\n",
    "clean_text = re.sub(r'[^a-zA-Z0-9]', ' ', casefolded_text)\n",
    "print(clean_text)"
   ]
  },
  {
   "cell_type": "code",
   "execution_count": 23,
   "metadata": {},
   "outputs": [
    {
     "name": "stdout",
     "output_type": "stream",
     "text": [
      "['alquiler', 'de', 'coche', 'buenas', 'tardes', 'soy', 'alba', 'he', 'alquilado', 'un', 'coche', 'para', 'el', 'pr', 'ximo', 'fin', 'de', 'semana', 'y', 'me', 'gustar', 'a', 'saber', 'd', 'nde', 'debo', 'recogerlo', 'yo', 'vivo', 'en', 'barcelona', 'buenas', 'tardes', 'alba', 'muchas', 'gracias', 'por', 'llamar', 'yo', 'vivo', 'en', 'un', 'pueblo', 'a', '20', 'minutos', 'de', 'barcelona', 'crees', 'que', 'podr', 'as', 'venir', 'a', 'recogerlo', 'el', 'viernes', 'depende', 'de', 'a', 'qu', 'hora', 'ya', 'que', 'el', 'viernes', 'trabajo', 'me', 'vendr', 'a', 'bien', 'entre', 'las', '17', '00h', 'y', 'las', '19', '00h', 'c', 'mo', 'lo', 'tienes', 'lo', 'tengo', 'complicado', 'acabo', 'de', 'trabajar', 'a', 'las', '18', '30', 'y', 'creo', 'que', 'no', 'me', 'dar', 'a', 'tiempo', 'c', 'mo', 'te', 'ir', 'a', 'el', 's', 'bado', 'a', 'primera', 'hora', 'si', 'vinieses', 'antes', 'de', 'las', '9', '00h', 'me', 'vendr', 'a', 'bien', 'pues', 'si', 'te', 'parece', 'bien', 'te', 'aviso', 'cuando', 'salga', 'de', 'barcelona', 'sobre', 'las', '8', '00h', 'as', 'cuando', 'llegues', 'ya', 'est', 'todo', 'listo', 'genial', 'alba', 'quedamos', 'as', 'te', 'espero', 'el', 's', 'bado', 'antes', 'de', 'las', '9', '00h']\n"
     ]
    }
   ],
   "source": [
    "#3\n",
    "tokeniced_text = clean_text.split()\n",
    "print(tokeniced_text)"
   ]
  },
  {
   "cell_type": "code",
   "execution_count": 41,
   "metadata": {},
   "outputs": [
    {
     "name": "stdout",
     "output_type": "stream",
     "text": [
      "['alquil', 'de', 'coch', 'buen', 'tard', ' ', 'soy', 'alba', ' ', 'he', 'alquil', 'un', 'coch', 'par', 'el', 'pr', 'xim', 'fin', 'de', 'seman', 'y', 'me', 'gust', 'a', 'sab', 'd', 'nde', 'deb', 'recog', ' ', 'yo', 'viv', 'en', 'barcelon', ' ', 'buen', 'tard', 'alba', ' ', 'much', 'graci', 'por', 'llam', ' ', 'yo', 'viv', 'en', 'un', 'puebl', 'a', '20', 'minut', 'de', 'barcelon', '  ', 'cre', 'que', 'podr', 'as', 'ven', 'a', 'recog', 'el', 'viern', ' ', 'depend', 'de', 'a', 'qu', ' ', 'hor', 'ya', 'que', 'el', 'viern', 'trabaj', ' ', 'me', 'vendr', 'a', 'bien', 'entre', 'las', '17', '00h', 'y', 'las', '19', '00h', '  ', 'c', 'mo', 'lo', 'tien', ' ', 'lo', 'teng', 'complic', ' ', 'acab', 'de', 'trabaj', 'a', 'las', '18', '30', 'y', 'cre', 'que', 'no', 'me', 'dar', 'a', 'tiemp', '  ', 'c', 'mo', 'te', 'ir', 'a', 'el', 's', 'bad', 'a', 'primer', 'hor', ' ', 'si', 'vin', 'antes', 'de', 'las', '9', '00h', 'me', 'vendr', 'a', 'bien', ' ', 'pues', 'si', 'te', 'parec', 'bien', ' ', 'te', 'avis', 'cuand', 'salg', 'de', 'barcelon', ' ', 'sobr', 'las', '8', '00h', ' ', 'as', ' ', 'cuand', 'lleg', 'ya', 'est', ' ', 'tod', 'list', ' ', 'genial', 'alba', ' ', 'qued', 'as', '  ', 'te', 'esper', 'el', 's', 'bad', 'antes', 'de', 'las', '9', '00h']\n"
     ]
    }
   ],
   "source": [
    "#4\n",
    "nlp =spacy.load(\"es_core_news_sm\")\n",
    "doc = nlp(clean_text)\n",
    "spanish_stemmer = SnowballStemmer('spanish')\n",
    "stemmedtext = [spanish_stemmer.stem(token.text) for token in doc]\n",
    "print(stemmedtext)"
   ]
  },
  {
   "cell_type": "code",
   "execution_count": 36,
   "metadata": {},
   "outputs": [
    {
     "name": "stdout",
     "output_type": "stream",
     "text": [
      "rule\n",
      "['Alquiler', 'de', 'coche', '\\n', 'Buenas', 'tarde', ',', 'ser', 'Alba', '.', 'haber', 'alquilar', 'uno', 'coche', 'para', 'el', 'próximo', 'fin', 'de', 'semana', 'y', 'yo', 'gustar', 'saber', 'dónde', 'deber', 'recoger él', '.', 'yo', 'vivir', 'en', 'Barcelona', '.', '\\n', 'Buenas', 'tarde', 'Alba', ',', 'mucho', 'gracia', 'por', 'llamar', '.', 'yo', 'vivir', 'en', 'uno', 'pueblo', 'a', '20', 'minuto', 'de', 'Barcelona', '.', '¿', 'Crees', 'que', 'podría', 'venir', 'a', 'recoger él', 'el', 'viernes', '?', '\\n', 'depender', 'de', 'a', 'qué', 'hora', 'ya', 'que', 'el', 'viernes', 'trabajo', '.', '\\n', 'yo', 'venir', 'bien', 'entre', 'el', '17.00h', 'y', 'el', '19.00h', '.', '¿', 'cómo', 'él', 'tener', '?', '\\n', 'él', 'tener', 'complicado', ',', 'acabar', 'de', 'trabajar', 'a', 'el', '18.30', 'y', 'creer', 'que', 'no', 'yo', 'dar', 'tiempo', '.', '¿', 'cómo', 'tú', 'ir', 'el', 'sábado', 'a', 'primero', 'hora', '?', '\\n', 'si', 'viniés', 'antes', 'de', 'el', '9.00h', 'yo', 'venir', 'bien', '.', '\\n', 'pues', 'si', 'tú', 'parecer', 'bien', ',', 'tú', 'avisar', 'cuando', 'salir', 'de', 'Barcelona', ',', 'sobre', 'el', '8.00h', ',', 'así', 'cuando', 'llegues', 'ya', 'estar', 'todo', 'listo', '.', '\\n', 'Genial', 'Alba', ',', 'quedar', 'así', ',', 'tú', 'esperar', 'el', 'sábado', 'antes', 'de', 'el', '9.00h', '.']\n"
     ]
    }
   ],
   "source": [
    "#5\n",
    "nlp=spacy.load(\"es_core_news_sm\")\n",
    "lemmatizer = nlp.get_pipe(\"lemmatizer\")\n",
    "print(lemmatizer.mode)\n",
    "\n",
    "lemmatizetext = nlp(text)\n",
    "print([token.lemma_ for token in lemmatizetext])"
   ]
  },
  {
   "cell_type": "code",
   "execution_count": null,
   "metadata": {},
   "outputs": [
    {
     "name": "stdout",
     "output_type": "stream",
     "text": [
      "['Alquiler de coche\\nBuenas tardes, soy Alba.', 'He alquilado un coche para el próximo fin de semana y me gustaría saber dónde debo recogerlo.', 'Yo vivo en Barcelona.', 'Buenas tardes Alba, muchas gracias por llamar.', 'Yo vivo en un pueblo a 20 minutos de Barcelona.', '¿Crees que podrías venir a recogerlo el viernes?', 'Depende de a qué hora ya que el viernes trabajo.', 'Me vendría bien entre las 17.00h y las 19.00h.', '¿Cómo lo tienes?', 'Lo tengo complicado, acabo de trabajar a las 18.30 y creo que no me daría tiempo.', '¿Cómo te iría el sábado a primera hora?', 'Si vinieses antes de las 9.00h me vendría bien.', 'Pues si te parece bien, te aviso cuando salga de Barcelona, sobre las 8.00h, así cuando llegues ya está todo listo.', 'Genial Alba, quedamos así, te espero el sábado antes de las 9.00h.']\n"
     ]
    }
   ],
   "source": [
    "#6\n",
    "pure_sentences = re.split(r'(?<!\\w\\.\\w.)(?<![A-Z][a-z]\\.)(?<=\\.|\\?)\\s', text)\n",
    "print(pure_sentences)"
   ]
  },
  {
   "cell_type": "code",
   "execution_count": 32,
   "metadata": {},
   "outputs": [
    {
     "name": "stdout",
     "output_type": "stream",
     "text": [
      "[('Alquiler', 'PROPN'), ('de', 'ADP'), ('coche', 'NOUN'), ('\\n', 'SPACE'), ('Buenas', 'PROPN'), ('tardes', 'NOUN'), (',', 'PUNCT'), ('soy', 'AUX'), ('Alba', 'PROPN'), ('.', 'PUNCT'), ('He', 'AUX'), ('alquilado', 'VERB'), ('un', 'DET'), ('coche', 'NOUN'), ('para', 'ADP'), ('el', 'DET'), ('próximo', 'ADJ'), ('fin', 'NOUN'), ('de', 'ADP'), ('semana', 'NOUN'), ('y', 'CCONJ'), ('me', 'PRON'), ('gustaría', 'VERB'), ('saber', 'AUX'), ('dónde', 'PRON'), ('debo', 'AUX'), ('recogerlo', 'VERB'), ('.', 'PUNCT'), ('Yo', 'PRON'), ('vivo', 'VERB'), ('en', 'ADP'), ('Barcelona', 'PROPN'), ('.', 'PUNCT'), ('\\n', 'SPACE'), ('Buenas', 'PROPN'), ('tardes', 'NOUN'), ('Alba', 'PROPN'), (',', 'PUNCT'), ('muchas', 'PRON'), ('gracias', 'NOUN'), ('por', 'ADP'), ('llamar', 'VERB'), ('.', 'PUNCT'), ('Yo', 'PRON'), ('vivo', 'VERB'), ('en', 'ADP'), ('un', 'DET'), ('pueblo', 'NOUN'), ('a', 'ADP'), ('20', 'NUM'), ('minutos', 'NOUN'), ('de', 'ADP'), ('Barcelona', 'PROPN'), ('.', 'PUNCT'), ('¿', 'PUNCT'), ('Crees', 'PROPN'), ('que', 'SCONJ'), ('podrías', 'NOUN'), ('venir', 'VERB'), ('a', 'ADP'), ('recogerlo', 'VERB'), ('el', 'DET'), ('viernes', 'NOUN'), ('?', 'PUNCT'), ('\\n', 'SPACE'), ('Depende', 'VERB'), ('de', 'ADP'), ('a', 'ADP'), ('qué', 'PRON'), ('hora', 'NOUN'), ('ya', 'ADV'), ('que', 'SCONJ'), ('el', 'DET'), ('viernes', 'NOUN'), ('trabajo', 'ADJ'), ('.', 'PUNCT'), ('\\n', 'SPACE'), ('Me', 'PRON'), ('vendría', 'VERB'), ('bien', 'ADV'), ('entre', 'ADP'), ('las', 'DET'), ('17.00h', 'NUM'), ('y', 'CCONJ'), ('las', 'DET'), ('19.00h', 'NUM'), ('.', 'PUNCT'), ('¿', 'PUNCT'), ('Cómo', 'PRON'), ('lo', 'PRON'), ('tienes', 'VERB'), ('?', 'PUNCT'), ('\\n', 'SPACE'), ('Lo', 'PRON'), ('tengo', 'VERB'), ('complicado', 'ADJ'), (',', 'PUNCT'), ('acabo', 'VERB'), ('de', 'ADP'), ('trabajar', 'VERB'), ('a', 'ADP'), ('las', 'DET'), ('18.30', 'NOUN'), ('y', 'CCONJ'), ('creo', 'VERB'), ('que', 'SCONJ'), ('no', 'ADV'), ('me', 'PRON'), ('daría', 'VERB'), ('tiempo', 'NOUN'), ('.', 'PUNCT'), ('¿', 'PUNCT'), ('Cómo', 'PRON'), ('te', 'PRON'), ('iría', 'VERB'), ('el', 'DET'), ('sábado', 'NOUN'), ('a', 'ADP'), ('primera', 'ADJ'), ('hora', 'NOUN'), ('?', 'PUNCT'), ('\\n', 'SPACE'), ('Si', 'SCONJ'), ('vinieses', 'NOUN'), ('antes', 'ADV'), ('de', 'ADP'), ('las', 'DET'), ('9.00h', 'NOUN'), ('me', 'PRON'), ('vendría', 'VERB'), ('bien', 'ADV'), ('.', 'PUNCT'), ('\\n', 'SPACE'), ('Pues', 'NOUN'), ('si', 'SCONJ'), ('te', 'PRON'), ('parece', 'VERB'), ('bien', 'ADV'), (',', 'PUNCT'), ('te', 'PRON'), ('aviso', 'VERB'), ('cuando', 'SCONJ'), ('salga', 'VERB'), ('de', 'ADP'), ('Barcelona', 'PROPN'), (',', 'PUNCT'), ('sobre', 'ADP'), ('las', 'DET'), ('8.00h', 'PROPN'), (',', 'PUNCT'), ('así', 'ADV'), ('cuando', 'SCONJ'), ('llegues', 'PROPN'), ('ya', 'ADV'), ('está', 'AUX'), ('todo', 'PRON'), ('listo', 'ADJ'), ('.', 'PUNCT'), ('\\n', 'SPACE'), ('Genial', 'PROPN'), ('Alba', 'PROPN'), (',', 'PUNCT'), ('quedamos', 'VERB'), ('así', 'ADV'), (',', 'PUNCT'), ('te', 'PRON'), ('espero', 'VERB'), ('el', 'DET'), ('sábado', 'NOUN'), ('antes', 'ADV'), ('de', 'ADP'), ('las', 'DET'), ('9.00h', 'NOUN'), ('.', 'PUNCT')]\n"
     ]
    }
   ],
   "source": [
    "#7\n",
    "nlp = es_core_news_sm.load()\n",
    "doc = nlp(text)\n",
    "print([(w.text, w.pos_) for w in doc]) "
   ]
  }
 ],
 "metadata": {
  "kernelspec": {
   "display_name": "base",
   "language": "python",
   "name": "python3"
  },
  "language_info": {
   "codemirror_mode": {
    "name": "ipython",
    "version": 3
   },
   "file_extension": ".py",
   "mimetype": "text/x-python",
   "name": "python",
   "nbconvert_exporter": "python",
   "pygments_lexer": "ipython3",
   "version": "3.11.5"
  }
 },
 "nbformat": 4,
 "nbformat_minor": 2
}
